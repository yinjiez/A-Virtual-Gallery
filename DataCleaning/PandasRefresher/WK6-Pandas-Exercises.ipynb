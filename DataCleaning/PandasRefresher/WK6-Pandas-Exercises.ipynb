{
 "cells": [
  {
   "cell_type": "markdown",
   "metadata": {
    "colab_type": "text",
    "id": "MqvoO9mDTXKb"
   },
   "source": [
    "# Pandas Exercises\n",
    "\n",
    "Try the exercises below to practice the *pandas* skills you learned. To edit and run the code, open the notebook in \"playground mode\" using the button in the upper right corner. Be sure to add it to your Drive to save your work. \n",
    "\n",
    "In a few cases, you might need (or want) to use syntax and functions we didn't cover. You should use Stack Overflow and the *pandas* documentation to help you solve these problems. No matter how much you use *pandas*, you'll always encounter situations where you don't know exactly what to do. "
   ]
  },
  {
   "cell_type": "markdown",
   "metadata": {
    "colab_type": "text",
    "id": "0c1GTV6fTuG8"
   },
   "source": [
    "## Setup\n",
    "\n",
    "The exercises use a very popular dataset from the UCI Machine Learning Repository that describes the physical characteristics of irises. Run the code cell below to import it into a `DataFrame` called `iris`."
   ]
  },
  {
   "cell_type": "code",
   "execution_count": 1,
   "metadata": {
    "colab": {},
    "colab_type": "code",
    "id": "vU6cTZS6UAmG"
   },
   "outputs": [
    {
     "data": {
      "text/html": [
       "<div>\n",
       "<style scoped>\n",
       "    .dataframe tbody tr th:only-of-type {\n",
       "        vertical-align: middle;\n",
       "    }\n",
       "\n",
       "    .dataframe tbody tr th {\n",
       "        vertical-align: top;\n",
       "    }\n",
       "\n",
       "    .dataframe thead th {\n",
       "        text-align: right;\n",
       "    }\n",
       "</style>\n",
       "<table border=\"1\" class=\"dataframe\">\n",
       "  <thead>\n",
       "    <tr style=\"text-align: right;\">\n",
       "      <th></th>\n",
       "      <th>sepal_length</th>\n",
       "      <th>sepal_width</th>\n",
       "      <th>petal_width</th>\n",
       "      <th>petal_length</th>\n",
       "      <th>flower</th>\n",
       "    </tr>\n",
       "  </thead>\n",
       "  <tbody>\n",
       "    <tr>\n",
       "      <th>0</th>\n",
       "      <td>5.1</td>\n",
       "      <td>3.5</td>\n",
       "      <td>1.4</td>\n",
       "      <td>0.2</td>\n",
       "      <td>Iris-setosa</td>\n",
       "    </tr>\n",
       "    <tr>\n",
       "      <th>1</th>\n",
       "      <td>4.9</td>\n",
       "      <td>3.0</td>\n",
       "      <td>1.4</td>\n",
       "      <td>0.2</td>\n",
       "      <td>Iris-setosa</td>\n",
       "    </tr>\n",
       "    <tr>\n",
       "      <th>2</th>\n",
       "      <td>4.7</td>\n",
       "      <td>3.2</td>\n",
       "      <td>1.3</td>\n",
       "      <td>0.2</td>\n",
       "      <td>Iris-setosa</td>\n",
       "    </tr>\n",
       "    <tr>\n",
       "      <th>3</th>\n",
       "      <td>4.6</td>\n",
       "      <td>3.1</td>\n",
       "      <td>1.5</td>\n",
       "      <td>0.2</td>\n",
       "      <td>Iris-setosa</td>\n",
       "    </tr>\n",
       "    <tr>\n",
       "      <th>4</th>\n",
       "      <td>5.0</td>\n",
       "      <td>3.6</td>\n",
       "      <td>1.4</td>\n",
       "      <td>0.2</td>\n",
       "      <td>Iris-setosa</td>\n",
       "    </tr>\n",
       "  </tbody>\n",
       "</table>\n",
       "</div>"
      ],
      "text/plain": [
       "   sepal_length  sepal_width  petal_width  petal_length       flower\n",
       "0           5.1          3.5          1.4           0.2  Iris-setosa\n",
       "1           4.9          3.0          1.4           0.2  Iris-setosa\n",
       "2           4.7          3.2          1.3           0.2  Iris-setosa\n",
       "3           4.6          3.1          1.5           0.2  Iris-setosa\n",
       "4           5.0          3.6          1.4           0.2  Iris-setosa"
      ]
     },
     "execution_count": 1,
     "metadata": {},
     "output_type": "execute_result"
    }
   ],
   "source": [
    "import pandas as pd\n",
    "import numpy as np\n",
    "columns=[\"sepal_length\", \"sepal_width\", \"petal_width\", \"petal_length\", \"flower\"]\n",
    "iris=pd.read_csv(\"https://archive.ics.uci.edu/ml/machine-learning-databases/iris/iris.data\", header=None, names=columns)\n",
    "iris.head()"
   ]
  },
  {
   "cell_type": "markdown",
   "metadata": {
    "colab_type": "text",
    "id": "cTigjdrrUEvA"
   },
   "source": [
    "Run the cell below to initialize several functions that will spot-check the correctness of your solutions as you complete the exercises. "
   ]
  },
  {
   "cell_type": "code",
   "execution_count": 2,
   "metadata": {
    "colab": {},
    "colab_type": "code",
    "id": "g32Naq2XR5m8"
   },
   "outputs": [],
   "source": [
    "def test_1(input):\n",
    "  assert isinstance(input, pd.Series)\n",
    "  expected = pd.Series([0.1, 0.2, 0.2, 0.1, 0.1, 0.2, 0.4, 0.4, 0.3, 0.3, 0.3],\n",
    "                       index=np.arange(9, 20))\n",
    "  assert expected.equals(input)\n",
    "\n",
    "def test_2(pl_mean, pl_std):\n",
    "  assert pl_mean > .23\n",
    "  assert pl_mean < .24\n",
    "  assert pl_std > .11\n",
    "  assert pl_std < .12\n",
    "\n",
    "def test_3(df):\n",
    "  assert 'big_petal' in df.columns\n",
    "  assert df['big_petal'].sum() == 116\n",
    "\n",
    "def test_4(df):\n",
    "  assert 'sepal_length' not in df.columns\n",
    "  assert 'sepal_width' not in df.columns\n",
    "  assert len(df.index) == 74\n",
    "  expected = pd.Index(list(range(1, 149, 2)))\n",
    "  assert df.index.equals(expected)\n",
    "\n",
    "def test_5(df):\n",
    "  assert len(df.index) == 59\n",
    "  assert df['big_petal'].all()\n",
    "\n",
    "def test_6(df):\n",
    "  assert len(df.index) == 51\n",
    "  assert (df['petal_length'] > .4).all()\n",
    "  assert 'big_petal' not in df.columns\n",
    "\n",
    "def test_7(df):\n",
    "  expected = set([75, 81, 89])\n",
    "  actual = set(list(df.index.values))\n",
    "  assert len(expected.difference(actual)) == 0\n",
    "  assert len(actual.difference(expected)) == 0"
   ]
  },
  {
   "cell_type": "markdown",
   "metadata": {
    "colab_type": "text",
    "id": "ku7DvzM-WC6D"
   },
   "source": [
    "## Dictionary Operations\n",
    "\n",
    "Create a new `Series` called `plength` that contains the `petal_length` column."
   ]
  },
  {
   "cell_type": "code",
   "execution_count": 17,
   "metadata": {
    "colab": {},
    "colab_type": "code",
    "id": "4vlfp42oY3Km"
   },
   "outputs": [
    {
     "data": {
      "text/plain": [
       "0     0.2\n",
       "1     0.2\n",
       "2     0.2\n",
       "3     0.2\n",
       "4     0.2\n",
       "5     0.4\n",
       "6     0.3\n",
       "7     0.2\n",
       "8     0.2\n",
       "9     0.1\n",
       "10    0.2\n",
       "11    0.2\n",
       "12    0.1\n",
       "13    0.1\n",
       "14    0.2\n",
       "15    0.4\n",
       "16    0.4\n",
       "17    0.3\n",
       "18    0.3\n",
       "19    0.3\n",
       "20    0.2\n",
       "Name: petal_length, dtype: float64"
      ]
     },
     "execution_count": 17,
     "metadata": {},
     "output_type": "execute_result"
    }
   ],
   "source": [
    "# YOUR CODE HERE\n",
    "plength = pd.Series(iris['petal_length'])\n",
    "plength.head(21)\n",
    "#iris[['petal_length']]"
   ]
  },
  {
   "cell_type": "markdown",
   "metadata": {
    "colab_type": "text",
    "id": "AojA7LgMY8vO"
   },
   "source": [
    "Store the 10th through 20th entries of `plength` in a `Series` named `plength_subset`\n",
    "\n",
    "*You should not use a for-loop*\n",
    "\n"
   ]
  },
  {
   "cell_type": "code",
   "execution_count": 19,
   "metadata": {
    "colab": {},
    "colab_type": "code",
    "id": "1ezWIytuY7xl"
   },
   "outputs": [
    {
     "data": {
      "text/plain": [
       "9     0.1\n",
       "10    0.2\n",
       "11    0.2\n",
       "12    0.1\n",
       "13    0.1\n",
       "14    0.2\n",
       "15    0.4\n",
       "16    0.4\n",
       "17    0.3\n",
       "18    0.3\n",
       "19    0.3\n",
       "Name: petal_length, dtype: float64"
      ]
     },
     "execution_count": 19,
     "metadata": {},
     "output_type": "execute_result"
    }
   ],
   "source": [
    "# YOUR CODE HERE\n",
    "plength_subset = plength.loc[9:19]\n",
    "# Note: 10th entry => index 9; 20th entry => index 19s\n",
    "######################################### \n",
    "# Do not edit below this line\n",
    "test_1(plength_subset)\n",
    "plength_subset"
   ]
  },
  {
   "cell_type": "markdown",
   "metadata": {
    "colab_type": "text",
    "id": "F1cz-MSuZSHB"
   },
   "source": [
    "Find the mean and standard deviation of the petal length for the 10th through 20th flowers, and store them in variables named `plength_mean` and `plength_std` respectively. \n",
    "\n",
    "*Hint: The `Series` class contains a number of convenient summary functions*"
   ]
  },
  {
   "cell_type": "code",
   "execution_count": 0,
   "metadata": {
    "colab": {},
    "colab_type": "code",
    "id": "VwPVsbK9Zhu9"
   },
   "outputs": [],
   "source": [
    "# YOUR CODE HERE\n",
    "\n",
    "# use Series.mean() & Series.std() methods\n",
    "######################################### \n",
    "# Do not edit below this line\n",
    "test_2(plength_mean, plength_std)\n",
    "print('mean: {:.3f}'.format(plength_mean))\n",
    "print('std: {:.3f}'.format(plength_std))"
   ]
  },
  {
   "cell_type": "markdown",
   "metadata": {
    "colab_type": "text",
    "id": "NGMpNB_Xa13p"
   },
   "source": [
    "Add a new boolean column to `iris` that gives whether the petal length for each flower is greater than the mean petal length you found above. Call the column `big_petal`. \n",
    "\n",
    "*Once again, your solution shouldn't use a for-loop.*"
   ]
  },
  {
   "cell_type": "code",
   "execution_count": 0,
   "metadata": {
    "colab": {},
    "colab_type": "code",
    "id": "MQ5tWaDcbUD0"
   },
   "outputs": [],
   "source": [
    "# YOUR CODE HERE\n",
    "\n",
    "######################################### \n",
    "# Do not edit below this line\n",
    "test_3(iris)\n",
    "iris.head()"
   ]
  },
  {
   "cell_type": "markdown",
   "metadata": {
    "colab_type": "text",
    "id": "cEYWsJWJbtP8"
   },
   "source": [
    "## `.loc`\n",
    "\n",
    "Now, create a `DataFrame` called `odd_iris` that contains only the flowers with odd indices in `iris` and doesn't contain `sepal_length` or `sepal_width`. Try to do this with just one line of code. And don't reset the index. \n",
    "\n",
    "*Hint: You may find `np.arange` useful here*"
   ]
  },
  {
   "cell_type": "code",
   "execution_count": 0,
   "metadata": {
    "colab": {},
    "colab_type": "code",
    "id": "tXGKm7BccEtg"
   },
   "outputs": [],
   "source": [
    "# YOUR CODE HERE\n",
    "\n",
    "######################################### \n",
    "# Do not edit below this line\n",
    "test_4(odd_iris)\n",
    "odd_iris.head()"
   ]
  },
  {
   "cell_type": "markdown",
   "metadata": {
    "colab_type": "text",
    "id": "fspn-525c30B"
   },
   "source": [
    "Create a new `DataFrame` called `big_odd_iris` that contains only the flowers from `odd_iris` with `big_petal=True`."
   ]
  },
  {
   "cell_type": "code",
   "execution_count": 0,
   "metadata": {
    "colab": {},
    "colab_type": "code",
    "id": "lH57qDIudIxF"
   },
   "outputs": [],
   "source": [
    "# YOUR CODE HERE\n",
    "\n",
    "######################################### \n",
    "# Do not edit below this line\n",
    "test_5(big_odd_iris)\n",
    "big_odd_iris.head()"
   ]
  },
  {
   "cell_type": "markdown",
   "metadata": {
    "colab_type": "text",
    "id": "q_mGfSCRdbtQ"
   },
   "source": [
    "In one line, remove the `big_petal` column and all rows with `petal_length <= 0.4` from `big_odd_iris`. "
   ]
  },
  {
   "cell_type": "code",
   "execution_count": 0,
   "metadata": {
    "colab": {},
    "colab_type": "code",
    "id": "oJSbeR1Qds5h"
   },
   "outputs": [],
   "source": [
    "# YOUR CODE HERE\n",
    "\n",
    "######################################### \n",
    "# Do not edit below this line\n",
    "test_6(big_odd_iris)\n",
    "big_odd_iris.head()"
   ]
  },
  {
   "cell_type": "markdown",
   "metadata": {
    "colab_type": "text",
    "id": "uxu-M7yxgBjl"
   },
   "source": [
    "Store the 15th, 18th, and 21st rows from the new version of `big_odd_iris` in a new `DataFrame` named `odd_subset` in one line of code. \n",
    "\n",
    "*Hint: Use `.iloc` instead of `.loc`. Check out the [documentation here](https://pandas.pydata.org/pandas-docs/stable/reference/api/pandas.DataFrame.iloc.html).*"
   ]
  },
  {
   "cell_type": "code",
   "execution_count": 0,
   "metadata": {
    "colab": {},
    "colab_type": "code",
    "id": "q6i82Hl1gfZl"
   },
   "outputs": [],
   "source": [
    "# YOUR CODE HERE\n",
    "\n",
    "######################################### \n",
    "# Do not edit below this line\n",
    "test_7(odd_subset)\n",
    "odd_subset"
   ]
  }
 ],
 "metadata": {
  "colab": {
   "name": "5 - Pandas Exercises.ipynb",
   "provenance": []
  },
  "kernelspec": {
   "display_name": "Python 3",
   "language": "python",
   "name": "python3"
  },
  "language_info": {
   "codemirror_mode": {
    "name": "ipython",
    "version": 3
   },
   "file_extension": ".py",
   "mimetype": "text/x-python",
   "name": "python",
   "nbconvert_exporter": "python",
   "pygments_lexer": "ipython3",
   "version": "3.8.5"
  }
 },
 "nbformat": 4,
 "nbformat_minor": 1
}
