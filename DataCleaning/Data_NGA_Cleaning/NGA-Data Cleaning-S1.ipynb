{
 "cells": [
  {
   "cell_type": "markdown",
   "metadata": {},
   "source": [
    "# Step 1 : \"Objects.csv\" --> \"Object_2D.csv\"\n",
    "\n",
    "## 1.1: Load raw \"01_0_objects.csv\" in"
   ]
  },
  {
   "cell_type": "code",
   "execution_count": 104,
   "metadata": {},
   "outputs": [
    {
     "data": {
      "text/plain": [
       "(136928, 18)"
      ]
     },
     "execution_count": 104,
     "metadata": {},
     "output_type": "execute_result"
    }
   ],
   "source": [
    "import numpy as np\n",
    "import pandas as pd\n",
    "\n",
    "pd.options.display.max_columns = 50\n",
    "pd.options.display.max_colwidth = 200\n",
    "\n",
    "df1 = pd.read_csv('01_0_objects.csv', encoding = 'utf-8', low_memory = False)\n",
    "\n",
    "#df1 #(overview of the table)\n",
    "df1.shape"
   ]
  },
  {
   "cell_type": "markdown",
   "metadata": {},
   "source": [
    "Pandas allow for adjusting table display configuration:\n",
    "* https://pandas.pydata.org/docs/user_guide/options.html\n",
    "\n",
    "NGA data are pulished in .csv-format and using UTF-8 encoding  \n",
    "* https://www.nga.gov/open-access-images/open-data.html\n",
    "* latin1 (MySQL), UTF8 (UTF8m4b, utf8m3b)\n",
    "\n",
    "You can get a slice of a DataFrame by using a colon `:`\n",
    "\n",
    "* Format: `[start_index:end_index]` \n",
    "* start_index and end_index are both optional \n",
    "* `start_index` is the index of the first value (included in slice)  \n",
    "* `end_index` is the index of the last value (not included in slice) (i.e. from `start` upto but not including `end`)   "
   ]
  },
  {
   "cell_type": "code",
   "execution_count": 105,
   "metadata": {},
   "outputs": [
    {
     "data": {
      "text/plain": [
       "Index(['objectID', 'title', 'displayDate', 'beginYear', 'endYear', 'timeSpan',\n",
       "       'medium', 'dimensions', 'inscription', 'markings',\n",
       "       'attributionInverted', 'attribution', 'classification', 'parentID',\n",
       "       'portfolio', 'series', 'volume', 'watermarks'],\n",
       "      dtype='object')"
      ]
     },
     "execution_count": 105,
     "metadata": {},
     "output_type": "execute_result"
    }
   ],
   "source": [
    "df1.head(10)\n",
    "#df1[100:200]\n",
    "df1.columns"
   ]
  },
  {
   "cell_type": "markdown",
   "metadata": {},
   "source": [
    "## 1.2: Gather all the paintings, drawings, prints \n",
    "**Raw Counts: Total = 109773 ==> Print = 69432, Drawing = 36098, Painting = 4243**"
   ]
  },
  {
   "cell_type": "code",
   "execution_count": 106,
   "metadata": {},
   "outputs": [
    {
     "data": {
      "text/plain": [
       "(4243, 18)"
      ]
     },
     "execution_count": 106,
     "metadata": {},
     "output_type": "execute_result"
    }
   ],
   "source": [
    "painting = df1[\"classification\"] == \"painting\"\n",
    "#df1[painting]\n",
    "df1[painting].shape # 4243 counts of all the \"paintings\"\n",
    "#df1[painting]"
   ]
  },
  {
   "cell_type": "code",
   "execution_count": 107,
   "metadata": {
    "scrolled": true
   },
   "outputs": [
    {
     "data": {
      "text/plain": [
       "(36098, 18)"
      ]
     },
     "execution_count": 107,
     "metadata": {},
     "output_type": "execute_result"
    }
   ],
   "source": [
    "drawing = df1[\"classification\"] == \"drawing\"\n",
    "# df1[drawing]\n",
    "df1[drawing].shape # counts of all the \"drawings\""
   ]
  },
  {
   "cell_type": "code",
   "execution_count": 108,
   "metadata": {},
   "outputs": [
    {
     "data": {
      "text/plain": [
       "(69432, 18)"
      ]
     },
     "execution_count": 108,
     "metadata": {},
     "output_type": "execute_result"
    }
   ],
   "source": [
    "prints = df1[\"classification\"] == \"print\"\n",
    "# df1[prints]\n",
    "df1[prints].shape # counts of all the \"prints\""
   ]
  },
  {
   "cell_type": "markdown",
   "metadata": {},
   "source": [
    "### Use `.append()` (rather than `.concat()`) \n",
    "* to join tuples of the types: (\"painting\" + \"drawing\" + \"print\"), all together\n",
    "\n",
    "https://pandas.pydata.org/pandas-docs/version/0.20/merging.html#concatenating-using-append\n",
    "\n",
    "\n",
    "* Full Columns: 'objectID', 'title', 'displayDate', 'beginYear', 'endYear', 'timeSpan', 'medium', 'dimensions', 'inscription', 'markings','attributionInverted', 'attribution', 'classification', 'parentID','portfolio', 'series', 'volume', 'watermarks'\n",
    "* Kept Columms: 'objectID', 'title', 'displayDate', 'beginYear', 'endYear', 'timeSpan', 'medium', 'dimensions', 'attributionInverted', 'attribution', 'classification', 'parentID','portfolio', 'series', 'volume'"
   ]
  },
  {
   "cell_type": "code",
   "execution_count": 109,
   "metadata": {
    "scrolled": true
   },
   "outputs": [
    {
     "data": {
      "text/plain": [
       "(109773, 15)"
      ]
     },
     "execution_count": 109,
     "metadata": {},
     "output_type": "execute_result"
    }
   ],
   "source": [
    "df_object_2D = df1[painting].append([df1[drawing], df1[prints]])\n",
    "df_object_2D.columns\n",
    "df_object_2D = df_object_2D[['objectID', 'title', 'displayDate', 'beginYear', 'endYear', 'timeSpan', 'medium', 'dimensions', 'attributionInverted', 'attribution', 'classification', 'parentID','portfolio', 'series', 'volume']]\n",
    "df_object_2D.shape # (109773 x 15)\n",
    "#df_object_2D #109773 distinct objectIDs"
   ]
  },
  {
   "cell_type": "markdown",
   "metadata": {},
   "source": [
    "## 1.3: Output Paintings + Drawings + Prints as .csv\n",
    "\n",
    "### Output dataframe to .csv file\n",
    "\n",
    "https://sparkbyexamples.com/pandas/pandas-write-dataframe-to-csv-file  \n",
    "\n",
    "https://stackoverflow.com/questions/16923281/writing-a-pandas-dataframe-to-csv-file\n",
    "\n",
    "### UTF-8 Encoding Concern  \n",
    "* this jupyter is using python3 (default is UNICODE encoding)\n",
    "* this when read in .csv file, don't need to specify.\n",
    "* when ouput .csv file, good practice to enforce utf-8 encoding\n",
    "https://stackoverflow.com/questions/36462852/how-to-read-utf-8-files-with-pandas\n",
    "\n",
    "### NULL value outputs (UNSOLVED......)\n",
    "https://stackoverflow.com/questions/50890989/pandas-changing-the-format-of-nan-values-when-saving-to-csv"
   ]
  },
  {
   "cell_type": "code",
   "execution_count": 110,
   "metadata": {},
   "outputs": [],
   "source": [
    "df_object_2D.to_csv(\"01_1_objects_2D.csv\", encoding = 'utf-8', index = False)\n",
    "# CHECKED output .csv file is INTACT (i.e. 109773 tuples)"
   ]
  },
  {
   "cell_type": "markdown",
   "metadata": {},
   "source": [
    "# Step 2: \"07_object_images.csv\"\n",
    "\n",
    "## 2.1: Read in \"object_images.csv\""
   ]
  },
  {
   "cell_type": "code",
   "execution_count": 111,
   "metadata": {},
   "outputs": [
    {
     "data": {
      "text/html": [
       "<div>\n",
       "<style scoped>\n",
       "    .dataframe tbody tr th:only-of-type {\n",
       "        vertical-align: middle;\n",
       "    }\n",
       "\n",
       "    .dataframe tbody tr th {\n",
       "        vertical-align: top;\n",
       "    }\n",
       "\n",
       "    .dataframe thead th {\n",
       "        text-align: right;\n",
       "    }\n",
       "</style>\n",
       "<table border=\"1\" class=\"dataframe\">\n",
       "  <thead>\n",
       "    <tr style=\"text-align: right;\">\n",
       "      <th></th>\n",
       "      <th>uuid</th>\n",
       "      <th>URL</th>\n",
       "      <th>thumbURL</th>\n",
       "      <th>width</th>\n",
       "      <th>height</th>\n",
       "      <th>maxpixels</th>\n",
       "      <th>objectID</th>\n",
       "    </tr>\n",
       "  </thead>\n",
       "  <tbody>\n",
       "    <tr>\n",
       "      <th>0</th>\n",
       "      <td>00004dec-8300-4487-8d89-562d0126b6a1</td>\n",
       "      <td>https://api.nga.gov/iiif/00004dec-8300-4487-8d89-562d0126b6a1</td>\n",
       "      <td>https://api.nga.gov/iiif/00004dec-8300-4487-8d89-562d0126b6a1/full/!200,200/0/default.jpg</td>\n",
       "      <td>2623</td>\n",
       "      <td>4000</td>\n",
       "      <td>640.0</td>\n",
       "      <td>11975</td>\n",
       "    </tr>\n",
       "    <tr>\n",
       "      <th>1</th>\n",
       "      <td>00007f61-4922-417b-8f27-893ea328206c</td>\n",
       "      <td>https://api.nga.gov/iiif/00007f61-4922-417b-8f27-893ea328206c</td>\n",
       "      <td>https://api.nga.gov/iiif/00007f61-4922-417b-8f27-893ea328206c/full/!200,200/0/default.jpg</td>\n",
       "      <td>3365</td>\n",
       "      <td>4332</td>\n",
       "      <td>NaN</td>\n",
       "      <td>17387</td>\n",
       "    </tr>\n",
       "    <tr>\n",
       "      <th>2</th>\n",
       "      <td>0000bd8c-39de-4453-b55d-5e28a9beed38</td>\n",
       "      <td>https://api.nga.gov/iiif/0000bd8c-39de-4453-b55d-5e28a9beed38</td>\n",
       "      <td>https://api.nga.gov/iiif/0000bd8c-39de-4453-b55d-5e28a9beed38/full/!200,200/0/default.jpg</td>\n",
       "      <td>3500</td>\n",
       "      <td>4688</td>\n",
       "      <td>NaN</td>\n",
       "      <td>19245</td>\n",
       "    </tr>\n",
       "    <tr>\n",
       "      <th>3</th>\n",
       "      <td>0000e5a4-7d32-4c2a-97c6-a6b571c9fd71</td>\n",
       "      <td>https://api.nga.gov/iiif/0000e5a4-7d32-4c2a-97c6-a6b571c9fd71</td>\n",
       "      <td>https://api.nga.gov/iiif/0000e5a4-7d32-4c2a-97c6-a6b571c9fd71/full/!200,200/0/default.jpg</td>\n",
       "      <td>2252</td>\n",
       "      <td>3000</td>\n",
       "      <td>NaN</td>\n",
       "      <td>153987</td>\n",
       "    </tr>\n",
       "    <tr>\n",
       "      <th>4</th>\n",
       "      <td>0001668a-dd1c-48e8-9267-b6d1697d43c8</td>\n",
       "      <td>https://api.nga.gov/iiif/0001668a-dd1c-48e8-9267-b6d1697d43c8</td>\n",
       "      <td>https://api.nga.gov/iiif/0001668a-dd1c-48e8-9267-b6d1697d43c8/full/!200,200/0/default.jpg</td>\n",
       "      <td>3446</td>\n",
       "      <td>4448</td>\n",
       "      <td>NaN</td>\n",
       "      <td>23830</td>\n",
       "    </tr>\n",
       "  </tbody>\n",
       "</table>\n",
       "</div>"
      ],
      "text/plain": [
       "                                   uuid  \\\n",
       "0  00004dec-8300-4487-8d89-562d0126b6a1   \n",
       "1  00007f61-4922-417b-8f27-893ea328206c   \n",
       "2  0000bd8c-39de-4453-b55d-5e28a9beed38   \n",
       "3  0000e5a4-7d32-4c2a-97c6-a6b571c9fd71   \n",
       "4  0001668a-dd1c-48e8-9267-b6d1697d43c8   \n",
       "\n",
       "                                                             URL  \\\n",
       "0  https://api.nga.gov/iiif/00004dec-8300-4487-8d89-562d0126b6a1   \n",
       "1  https://api.nga.gov/iiif/00007f61-4922-417b-8f27-893ea328206c   \n",
       "2  https://api.nga.gov/iiif/0000bd8c-39de-4453-b55d-5e28a9beed38   \n",
       "3  https://api.nga.gov/iiif/0000e5a4-7d32-4c2a-97c6-a6b571c9fd71   \n",
       "4  https://api.nga.gov/iiif/0001668a-dd1c-48e8-9267-b6d1697d43c8   \n",
       "\n",
       "                                                                                    thumbURL  \\\n",
       "0  https://api.nga.gov/iiif/00004dec-8300-4487-8d89-562d0126b6a1/full/!200,200/0/default.jpg   \n",
       "1  https://api.nga.gov/iiif/00007f61-4922-417b-8f27-893ea328206c/full/!200,200/0/default.jpg   \n",
       "2  https://api.nga.gov/iiif/0000bd8c-39de-4453-b55d-5e28a9beed38/full/!200,200/0/default.jpg   \n",
       "3  https://api.nga.gov/iiif/0000e5a4-7d32-4c2a-97c6-a6b571c9fd71/full/!200,200/0/default.jpg   \n",
       "4  https://api.nga.gov/iiif/0001668a-dd1c-48e8-9267-b6d1697d43c8/full/!200,200/0/default.jpg   \n",
       "\n",
       "   width  height  maxpixels  objectID  \n",
       "0   2623    4000      640.0     11975  \n",
       "1   3365    4332        NaN     17387  \n",
       "2   3500    4688        NaN     19245  \n",
       "3   2252    3000        NaN    153987  \n",
       "4   3446    4448        NaN     23830  "
      ]
     },
     "execution_count": 111,
     "metadata": {},
     "output_type": "execute_result"
    }
   ],
   "source": [
    "df7 = pd.read_csv('07_0_objects_images_clean.csv', encoding = 'utf-8', low_memory = False)\n",
    "df7.shape # 103227 digital images availiable (x 7 attributes)\n",
    "df7.columns\n",
    "df7.head(5)"
   ]
  },
  {
   "cell_type": "markdown",
   "metadata": {},
   "source": [
    "## To use IIIF image framework\n",
    "https://iiif.io/api/image/2.1/\n",
    "\n",
    "`{scheme}://{server}{/prefix}/{identifier}/{region}/{size}/{rotation}/{quality}.{format}`\n",
    "\n",
    "default image:  \n",
    "https://api.nga.gov/iiif/00004dec-8300-4487-8d89-562d0126b6a1/full/!200,200/0/default.jpg  \n",
    "`00004dec-8300-4487-8d89-562d0126b6a1` is imageID\n",
    "\n",
    "**Image Rotation**  \n",
    "* NGA's IIIF image: currently implemented rotation angles are 0, 90, 180 and 270 degrees\n",
    "\n",
    "**IIIF API DEMO**\n",
    "* full region, 210 width x 320 height, 90 degree rotation, gray image quality \n",
    "    * https://api.nga.gov/iiif/00004dec-8300-4487-8d89-562d0126b6a1/full/!210,320/90/gray.jpg\n",
    "* sqaure size, 210 width x 320 height, 270 degree rotation, color image quality \n",
    "    * https://api.nga.gov/iiif/00004dec-8300-4487-8d89-562d0126b6a1/square/!210,320/270/color.jpg\n",
    "    \n"
   ]
  },
  {
   "cell_type": "markdown",
   "metadata": {},
   "source": [
    "## 2.2: Gather all the matching images of paintings, drawings, prints \n",
    "**Counts: Total = 81937  ==>  Painting = 3788, Drawing = 32155, Print = 45994**"
   ]
  },
  {
   "cell_type": "code",
   "execution_count": 112,
   "metadata": {},
   "outputs": [
    {
     "data": {
      "text/plain": [
       "(81937, 21)"
      ]
     },
     "execution_count": 112,
     "metadata": {},
     "output_type": "execute_result"
    }
   ],
   "source": [
    "df_2D_7 = pd.merge(left = df_object_2D, right = df7, how = \"inner\", left_on = \"objectID\", right_on = \"objectID\")\n",
    "df_2D_7.shape \n",
    "# 81937 digital images matched with Artwork-Objects of interest (i.e. Paintings, Drawings, Prints)"
   ]
  },
  {
   "cell_type": "code",
   "execution_count": 113,
   "metadata": {},
   "outputs": [
    {
     "data": {
      "text/plain": [
       "Index(['objectID', 'title', 'displayDate', 'beginYear', 'endYear', 'timeSpan',\n",
       "       'medium', 'dimensions', 'attributionInverted', 'attribution',\n",
       "       'classification', 'parentID', 'portfolio', 'series', 'volume', 'uuid',\n",
       "       'URL', 'thumbURL', 'width', 'height', 'maxpixels'],\n",
       "      dtype='object')"
      ]
     },
     "execution_count": 113,
     "metadata": {},
     "output_type": "execute_result"
    }
   ],
   "source": [
    "df_2D_7.columns # 21 columns as following:"
   ]
  },
  {
   "cell_type": "code",
   "execution_count": 114,
   "metadata": {},
   "outputs": [
    {
     "data": {
      "text/html": [
       "<div>\n",
       "<style scoped>\n",
       "    .dataframe tbody tr th:only-of-type {\n",
       "        vertical-align: middle;\n",
       "    }\n",
       "\n",
       "    .dataframe tbody tr th {\n",
       "        vertical-align: top;\n",
       "    }\n",
       "\n",
       "    .dataframe thead th {\n",
       "        text-align: right;\n",
       "    }\n",
       "</style>\n",
       "<table border=\"1\" class=\"dataframe\">\n",
       "  <thead>\n",
       "    <tr style=\"text-align: right;\">\n",
       "      <th></th>\n",
       "      <th>objectID</th>\n",
       "      <th>title</th>\n",
       "      <th>displayDate</th>\n",
       "      <th>beginYear</th>\n",
       "      <th>endYear</th>\n",
       "      <th>timeSpan</th>\n",
       "      <th>medium</th>\n",
       "      <th>dimensions</th>\n",
       "      <th>attributionInverted</th>\n",
       "      <th>attribution</th>\n",
       "      <th>classification</th>\n",
       "      <th>parentID</th>\n",
       "      <th>portfolio</th>\n",
       "      <th>series</th>\n",
       "      <th>volume</th>\n",
       "      <th>uuid</th>\n",
       "      <th>URL</th>\n",
       "      <th>thumbURL</th>\n",
       "      <th>width</th>\n",
       "      <th>height</th>\n",
       "      <th>maxpixels</th>\n",
       "    </tr>\n",
       "  </thead>\n",
       "  <tbody>\n",
       "    <tr>\n",
       "      <th>0</th>\n",
       "      <td>0</td>\n",
       "      <td>Saint James Major</td>\n",
       "      <td>c. 1310</td>\n",
       "      <td>1310.0</td>\n",
       "      <td>1310.0</td>\n",
       "      <td>1300 to 1400</td>\n",
       "      <td>tempera on panel</td>\n",
       "      <td>painted surface (top of gilding): 62.2 × 34.8 cm (24 1/2 × 13 11/16 in.)\\r\\npainted surface (including painted border): 64.8 × 34.8 cm (25 1/2 × 13 11/16 in.)\\r\\noverall: 66.7 × 36.7 × 1.2 cm (26 ...</td>\n",
       "      <td>Grifo di Tancredi</td>\n",
       "      <td>Grifo di Tancredi</td>\n",
       "      <td>painting</td>\n",
       "      <td>34.0</td>\n",
       "      <td>NaN</td>\n",
       "      <td>NaN</td>\n",
       "      <td>NaN</td>\n",
       "      <td>7b170a4c-9d44-475c-b294-cee6f43d88af</td>\n",
       "      <td>https://api.nga.gov/iiif/7b170a4c-9d44-475c-b294-cee6f43d88af</td>\n",
       "      <td>https://api.nga.gov/iiif/7b170a4c-9d44-475c-b294-cee6f43d88af/full/!200,200/0/default.jpg</td>\n",
       "      <td>2846</td>\n",
       "      <td>5153</td>\n",
       "      <td>NaN</td>\n",
       "    </tr>\n",
       "    <tr>\n",
       "      <th>1</th>\n",
       "      <td>1</td>\n",
       "      <td>Saint Paul and a Group of Worshippers</td>\n",
       "      <td>1333</td>\n",
       "      <td>1333.0</td>\n",
       "      <td>1333.0</td>\n",
       "      <td>1300 to 1400</td>\n",
       "      <td>tempera on panel</td>\n",
       "      <td>painted surface: 224.8 × 77 cm (88 1/2 × 30 5/16 in.)\\r\\noverall: 233.53 × 88.8 × 5.3 cm (91 15/16 × 34 15/16 × 2 1/16 in.)</td>\n",
       "      <td>Daddi, Bernardo</td>\n",
       "      <td>Bernardo Daddi</td>\n",
       "      <td>painting</td>\n",
       "      <td>NaN</td>\n",
       "      <td>NaN</td>\n",
       "      <td>NaN</td>\n",
       "      <td>NaN</td>\n",
       "      <td>7bbcfd01-e774-46e7-96d1-a3b03598cd8a</td>\n",
       "      <td>https://api.nga.gov/iiif/7bbcfd01-e774-46e7-96d1-a3b03598cd8a</td>\n",
       "      <td>https://api.nga.gov/iiif/7bbcfd01-e774-46e7-96d1-a3b03598cd8a/full/!200,200/0/default.jpg</td>\n",
       "      <td>6004</td>\n",
       "      <td>15544</td>\n",
       "      <td>NaN</td>\n",
       "    </tr>\n",
       "    <tr>\n",
       "      <th>2</th>\n",
       "      <td>2</td>\n",
       "      <td>Saint Andrew and Saint Benedict with the Archangel Gabriel [left panel]</td>\n",
       "      <td>shortly before 1387</td>\n",
       "      <td>1387.0</td>\n",
       "      <td>1387.0</td>\n",
       "      <td>1300 to 1400</td>\n",
       "      <td>tempera on poplar panel</td>\n",
       "      <td>overall: 197 × 80 cm (77 9/16 × 31 1/2 in.)</td>\n",
       "      <td>Gaddi, Agnolo</td>\n",
       "      <td>Agnolo Gaddi</td>\n",
       "      <td>painting</td>\n",
       "      <td>206122.0</td>\n",
       "      <td>NaN</td>\n",
       "      <td>NaN</td>\n",
       "      <td>NaN</td>\n",
       "      <td>e8a1acb4-f60a-477a-9bfe-61fa5072c514</td>\n",
       "      <td>https://api.nga.gov/iiif/e8a1acb4-f60a-477a-9bfe-61fa5072c514</td>\n",
       "      <td>https://api.nga.gov/iiif/e8a1acb4-f60a-477a-9bfe-61fa5072c514/full/!200,200/0/default.jpg</td>\n",
       "      <td>2152</td>\n",
       "      <td>4827</td>\n",
       "      <td>NaN</td>\n",
       "    </tr>\n",
       "    <tr>\n",
       "      <th>3</th>\n",
       "      <td>18</td>\n",
       "      <td>The Annunciation</td>\n",
       "      <td>c. 1423/1424</td>\n",
       "      <td>1383.0</td>\n",
       "      <td>1435.0</td>\n",
       "      <td>1300 to 1400</td>\n",
       "      <td>tempera (and possibly oil glazes) on panel</td>\n",
       "      <td>overall: 148.8 x 115.1 cm (58 9/16 x 45 5/16 in.)\\r\\nframed: 181 x 165.1 x 11.1 cm (71 1/4 x 65 x 4 3/8 in.)</td>\n",
       "      <td>Masolino da Panicale</td>\n",
       "      <td>Masolino da Panicale</td>\n",
       "      <td>painting</td>\n",
       "      <td>NaN</td>\n",
       "      <td>NaN</td>\n",
       "      <td>NaN</td>\n",
       "      <td>NaN</td>\n",
       "      <td>e6497b39-66a9-4b6b-bf2b-c1633d20c0b6</td>\n",
       "      <td>https://api.nga.gov/iiif/e6497b39-66a9-4b6b-bf2b-c1633d20c0b6</td>\n",
       "      <td>https://api.nga.gov/iiif/e6497b39-66a9-4b6b-bf2b-c1633d20c0b6/full/!200,200/0/default.jpg</td>\n",
       "      <td>2333</td>\n",
       "      <td>2996</td>\n",
       "      <td>NaN</td>\n",
       "    </tr>\n",
       "    <tr>\n",
       "      <th>4</th>\n",
       "      <td>19</td>\n",
       "      <td>Portrait of a Man</td>\n",
       "      <td>c. 1450</td>\n",
       "      <td>1450.0</td>\n",
       "      <td>1450.0</td>\n",
       "      <td>1401 to 1500</td>\n",
       "      <td>tempera on panel</td>\n",
       "      <td>painted surface: 54.2 x 40.4 cm (21 5/16 x 15 7/8 in.)\\r\\nsupport: 55.5 x 41.2 cm (21 7/8 x 16 1/4 in.)\\r\\nframed: 86.4 x 74.9 x 8.9 cm (34 x 29 1/2 x 3 1/2 in.)</td>\n",
       "      <td>Andrea del Castagno</td>\n",
       "      <td>Andrea del Castagno</td>\n",
       "      <td>painting</td>\n",
       "      <td>NaN</td>\n",
       "      <td>NaN</td>\n",
       "      <td>NaN</td>\n",
       "      <td>NaN</td>\n",
       "      <td>a21cc457-7ddf-4c4d-9934-8039bc919864</td>\n",
       "      <td>https://api.nga.gov/iiif/a21cc457-7ddf-4c4d-9934-8039bc919864</td>\n",
       "      <td>https://api.nga.gov/iiif/a21cc457-7ddf-4c4d-9934-8039bc919864/full/!200,200/0/default.jpg</td>\n",
       "      <td>5395</td>\n",
       "      <td>7270</td>\n",
       "      <td>NaN</td>\n",
       "    </tr>\n",
       "  </tbody>\n",
       "</table>\n",
       "</div>"
      ],
      "text/plain": [
       "   objectID  \\\n",
       "0         0   \n",
       "1         1   \n",
       "2         2   \n",
       "3        18   \n",
       "4        19   \n",
       "\n",
       "                                                                     title  \\\n",
       "0                                                        Saint James Major   \n",
       "1                                    Saint Paul and a Group of Worshippers   \n",
       "2  Saint Andrew and Saint Benedict with the Archangel Gabriel [left panel]   \n",
       "3                                                         The Annunciation   \n",
       "4                                                        Portrait of a Man   \n",
       "\n",
       "           displayDate  beginYear  endYear      timeSpan  \\\n",
       "0              c. 1310     1310.0   1310.0  1300 to 1400   \n",
       "1                 1333     1333.0   1333.0  1300 to 1400   \n",
       "2  shortly before 1387     1387.0   1387.0  1300 to 1400   \n",
       "3         c. 1423/1424     1383.0   1435.0  1300 to 1400   \n",
       "4              c. 1450     1450.0   1450.0  1401 to 1500   \n",
       "\n",
       "                                       medium  \\\n",
       "0                            tempera on panel   \n",
       "1                            tempera on panel   \n",
       "2                     tempera on poplar panel   \n",
       "3  tempera (and possibly oil glazes) on panel   \n",
       "4                            tempera on panel   \n",
       "\n",
       "                                                                                                                                                                                                dimensions  \\\n",
       "0  painted surface (top of gilding): 62.2 × 34.8 cm (24 1/2 × 13 11/16 in.)\\r\\npainted surface (including painted border): 64.8 × 34.8 cm (25 1/2 × 13 11/16 in.)\\r\\noverall: 66.7 × 36.7 × 1.2 cm (26 ...   \n",
       "1                                                                              painted surface: 224.8 × 77 cm (88 1/2 × 30 5/16 in.)\\r\\noverall: 233.53 × 88.8 × 5.3 cm (91 15/16 × 34 15/16 × 2 1/16 in.)   \n",
       "2                                                                                                                                                              overall: 197 × 80 cm (77 9/16 × 31 1/2 in.)   \n",
       "3                                                                                             overall: 148.8 x 115.1 cm (58 9/16 x 45 5/16 in.)\\r\\nframed: 181 x 165.1 x 11.1 cm (71 1/4 x 65 x 4 3/8 in.)   \n",
       "4                                        painted surface: 54.2 x 40.4 cm (21 5/16 x 15 7/8 in.)\\r\\nsupport: 55.5 x 41.2 cm (21 7/8 x 16 1/4 in.)\\r\\nframed: 86.4 x 74.9 x 8.9 cm (34 x 29 1/2 x 3 1/2 in.)   \n",
       "\n",
       "    attributionInverted           attribution classification  parentID  \\\n",
       "0     Grifo di Tancredi     Grifo di Tancredi       painting      34.0   \n",
       "1       Daddi, Bernardo        Bernardo Daddi       painting       NaN   \n",
       "2         Gaddi, Agnolo          Agnolo Gaddi       painting  206122.0   \n",
       "3  Masolino da Panicale  Masolino da Panicale       painting       NaN   \n",
       "4   Andrea del Castagno   Andrea del Castagno       painting       NaN   \n",
       "\n",
       "  portfolio series volume                                  uuid  \\\n",
       "0       NaN    NaN    NaN  7b170a4c-9d44-475c-b294-cee6f43d88af   \n",
       "1       NaN    NaN    NaN  7bbcfd01-e774-46e7-96d1-a3b03598cd8a   \n",
       "2       NaN    NaN    NaN  e8a1acb4-f60a-477a-9bfe-61fa5072c514   \n",
       "3       NaN    NaN    NaN  e6497b39-66a9-4b6b-bf2b-c1633d20c0b6   \n",
       "4       NaN    NaN    NaN  a21cc457-7ddf-4c4d-9934-8039bc919864   \n",
       "\n",
       "                                                             URL  \\\n",
       "0  https://api.nga.gov/iiif/7b170a4c-9d44-475c-b294-cee6f43d88af   \n",
       "1  https://api.nga.gov/iiif/7bbcfd01-e774-46e7-96d1-a3b03598cd8a   \n",
       "2  https://api.nga.gov/iiif/e8a1acb4-f60a-477a-9bfe-61fa5072c514   \n",
       "3  https://api.nga.gov/iiif/e6497b39-66a9-4b6b-bf2b-c1633d20c0b6   \n",
       "4  https://api.nga.gov/iiif/a21cc457-7ddf-4c4d-9934-8039bc919864   \n",
       "\n",
       "                                                                                    thumbURL  \\\n",
       "0  https://api.nga.gov/iiif/7b170a4c-9d44-475c-b294-cee6f43d88af/full/!200,200/0/default.jpg   \n",
       "1  https://api.nga.gov/iiif/7bbcfd01-e774-46e7-96d1-a3b03598cd8a/full/!200,200/0/default.jpg   \n",
       "2  https://api.nga.gov/iiif/e8a1acb4-f60a-477a-9bfe-61fa5072c514/full/!200,200/0/default.jpg   \n",
       "3  https://api.nga.gov/iiif/e6497b39-66a9-4b6b-bf2b-c1633d20c0b6/full/!200,200/0/default.jpg   \n",
       "4  https://api.nga.gov/iiif/a21cc457-7ddf-4c4d-9934-8039bc919864/full/!200,200/0/default.jpg   \n",
       "\n",
       "   width  height  maxpixels  \n",
       "0   2846    5153        NaN  \n",
       "1   6004   15544        NaN  \n",
       "2   2152    4827        NaN  \n",
       "3   2333    2996        NaN  \n",
       "4   5395    7270        NaN  "
      ]
     },
     "execution_count": 114,
     "metadata": {},
     "output_type": "execute_result"
    }
   ],
   "source": [
    "df_2D_7.head(5)"
   ]
  },
  {
   "cell_type": "code",
   "execution_count": 119,
   "metadata": {},
   "outputs": [
    {
     "data": {
      "text/plain": [
       "1149"
      ]
     },
     "execution_count": 119,
     "metadata": {},
     "output_type": "execute_result"
    }
   ],
   "source": [
    "df_2D_7[\"parentID\"].nunique() #1149 parentIDs"
   ]
  },
  {
   "cell_type": "markdown",
   "metadata": {},
   "source": [
    "**Search a column use `Series.str.contains()` method**\n",
    "* https://stackoverflow.com/questions/11350770/filter-pandas-dataframe-by-substring-criteria\n",
    "* also see CIT591-M6-Slide \"Computations – sum()\""
   ]
  },
  {
   "cell_type": "code",
   "execution_count": 86,
   "metadata": {},
   "outputs": [],
   "source": [
    "# Get the Artwork Series named \"The Birds of America\"\n",
    "# df_2D_7.loc[df_2D_7[\"series\"].str.contains(\"The Birds of America\", na=False)]"
   ]
  },
  {
   "cell_type": "markdown",
   "metadata": {},
   "source": [
    "### Check for unique objectID with `df.nunique()` or `df.value_counts()`\n",
    "* https://www.geeksforgeeks.org/python-pandas-index-value_counts/  \n",
    "* https://pandas.pydata.org/docs/reference/api/pandas.DataFrame.nunique.html  "
   ]
  },
  {
   "cell_type": "code",
   "execution_count": 87,
   "metadata": {},
   "outputs": [
    {
     "data": {
      "text/plain": [
       "81868"
      ]
     },
     "execution_count": 87,
     "metadata": {},
     "output_type": "execute_result"
    }
   ],
   "source": [
    "df_2D_7[\"objectID\"].nunique()\n",
    "# 81868 distinct objectID"
   ]
  },
  {
   "cell_type": "markdown",
   "metadata": {},
   "source": [
    "## 2.3 Issue: Does any artwork-object has more than one corresponding image?\n",
    "* 81937 total tuples (when inner-joininig objects with object-images)\n",
    "* 81868 distinct objectID among 81937 total object+image combinations\n",
    "* 69 artwork-objects have more than one images\n",
    "\n",
    "**`df.duplicated()` method: Check for all the duplicates** (i.e. only return the duplicates)\n",
    "* https://stackoverflow.com/questions/14657241/how-do-i-get-a-list-of-all-the-duplicate-items-using-pandas-in-python\n",
    "* https://pandas.pydata.org/docs/reference/api/pandas.DataFrame.duplicated.html"
   ]
  },
  {
   "cell_type": "code",
   "execution_count": 120,
   "metadata": {},
   "outputs": [
    {
     "data": {
      "text/html": [
       "<div>\n",
       "<style scoped>\n",
       "    .dataframe tbody tr th:only-of-type {\n",
       "        vertical-align: middle;\n",
       "    }\n",
       "\n",
       "    .dataframe tbody tr th {\n",
       "        vertical-align: top;\n",
       "    }\n",
       "\n",
       "    .dataframe thead th {\n",
       "        text-align: right;\n",
       "    }\n",
       "</style>\n",
       "<table border=\"1\" class=\"dataframe\">\n",
       "  <thead>\n",
       "    <tr style=\"text-align: right;\">\n",
       "      <th></th>\n",
       "      <th>objectID</th>\n",
       "      <th>title</th>\n",
       "      <th>displayDate</th>\n",
       "      <th>beginYear</th>\n",
       "      <th>endYear</th>\n",
       "      <th>timeSpan</th>\n",
       "      <th>medium</th>\n",
       "      <th>dimensions</th>\n",
       "      <th>attributionInverted</th>\n",
       "      <th>attribution</th>\n",
       "      <th>classification</th>\n",
       "      <th>parentID</th>\n",
       "      <th>portfolio</th>\n",
       "      <th>series</th>\n",
       "      <th>volume</th>\n",
       "      <th>uuid</th>\n",
       "      <th>URL</th>\n",
       "      <th>thumbURL</th>\n",
       "      <th>width</th>\n",
       "      <th>height</th>\n",
       "      <th>maxpixels</th>\n",
       "    </tr>\n",
       "  </thead>\n",
       "  <tbody>\n",
       "    <tr>\n",
       "      <th>364</th>\n",
       "      <td>46054</td>\n",
       "      <td>Four-Panel Screen</td>\n",
       "      <td>c. 1475/1500</td>\n",
       "      <td>1475.0</td>\n",
       "      <td>1500.0</td>\n",
       "      <td>1401 to 1500</td>\n",
       "      <td>oil on panel</td>\n",
       "      <td>overall size: 222 x 286.6 cm (87 3/8 x 112 13/16 in.)\\r\\noverall (Saint Dionysius, painted surface): 151.5 x 54.5 cm (59 5/8 x 21 7/16 in.)\\r\\noverall (Saint Dionysius, painted surface and frame):...</td>\n",
       "      <td>Portuguese 15th Century</td>\n",
       "      <td>Portuguese 15th Century</td>\n",
       "      <td>painting</td>\n",
       "      <td>NaN</td>\n",
       "      <td>NaN</td>\n",
       "      <td>NaN</td>\n",
       "      <td>NaN</td>\n",
       "      <td>9d7fd726-6565-49b5-ae42-fd8f570fbf08</td>\n",
       "      <td>https://api.nga.gov/iiif/9d7fd726-6565-49b5-ae42-fd8f570fbf08</td>\n",
       "      <td>https://api.nga.gov/iiif/9d7fd726-6565-49b5-ae42-fd8f570fbf08/full/!200,200/0/default.jpg</td>\n",
       "      <td>401</td>\n",
       "      <td>1200</td>\n",
       "      <td>NaN</td>\n",
       "    </tr>\n",
       "    <tr>\n",
       "      <th>365</th>\n",
       "      <td>46054</td>\n",
       "      <td>Four-Panel Screen</td>\n",
       "      <td>c. 1475/1500</td>\n",
       "      <td>1475.0</td>\n",
       "      <td>1500.0</td>\n",
       "      <td>1401 to 1500</td>\n",
       "      <td>oil on panel</td>\n",
       "      <td>overall size: 222 x 286.6 cm (87 3/8 x 112 13/16 in.)\\r\\noverall (Saint Dionysius, painted surface): 151.5 x 54.5 cm (59 5/8 x 21 7/16 in.)\\r\\noverall (Saint Dionysius, painted surface and frame):...</td>\n",
       "      <td>Portuguese 15th Century</td>\n",
       "      <td>Portuguese 15th Century</td>\n",
       "      <td>painting</td>\n",
       "      <td>NaN</td>\n",
       "      <td>NaN</td>\n",
       "      <td>NaN</td>\n",
       "      <td>NaN</td>\n",
       "      <td>a3bbffa3-3e50-465a-832a-fff278cd945c</td>\n",
       "      <td>https://api.nga.gov/iiif/a3bbffa3-3e50-465a-832a-fff278cd945c</td>\n",
       "      <td>https://api.nga.gov/iiif/a3bbffa3-3e50-465a-832a-fff278cd945c/full/!200,200/0/default.jpg</td>\n",
       "      <td>394</td>\n",
       "      <td>1200</td>\n",
       "      <td>NaN</td>\n",
       "    </tr>\n",
       "    <tr>\n",
       "      <th>366</th>\n",
       "      <td>46054</td>\n",
       "      <td>Four-Panel Screen</td>\n",
       "      <td>c. 1475/1500</td>\n",
       "      <td>1475.0</td>\n",
       "      <td>1500.0</td>\n",
       "      <td>1401 to 1500</td>\n",
       "      <td>oil on panel</td>\n",
       "      <td>overall size: 222 x 286.6 cm (87 3/8 x 112 13/16 in.)\\r\\noverall (Saint Dionysius, painted surface): 151.5 x 54.5 cm (59 5/8 x 21 7/16 in.)\\r\\noverall (Saint Dionysius, painted surface and frame):...</td>\n",
       "      <td>Portuguese 15th Century</td>\n",
       "      <td>Portuguese 15th Century</td>\n",
       "      <td>painting</td>\n",
       "      <td>NaN</td>\n",
       "      <td>NaN</td>\n",
       "      <td>NaN</td>\n",
       "      <td>NaN</td>\n",
       "      <td>b862fdfb-bb90-45fe-9456-5f02a84bc6bc</td>\n",
       "      <td>https://api.nga.gov/iiif/b862fdfb-bb90-45fe-9456-5f02a84bc6bc</td>\n",
       "      <td>https://api.nga.gov/iiif/b862fdfb-bb90-45fe-9456-5f02a84bc6bc/full/!200,200/0/default.jpg</td>\n",
       "      <td>383</td>\n",
       "      <td>1200</td>\n",
       "      <td>NaN</td>\n",
       "    </tr>\n",
       "    <tr>\n",
       "      <th>367</th>\n",
       "      <td>46054</td>\n",
       "      <td>Four-Panel Screen</td>\n",
       "      <td>c. 1475/1500</td>\n",
       "      <td>1475.0</td>\n",
       "      <td>1500.0</td>\n",
       "      <td>1401 to 1500</td>\n",
       "      <td>oil on panel</td>\n",
       "      <td>overall size: 222 x 286.6 cm (87 3/8 x 112 13/16 in.)\\r\\noverall (Saint Dionysius, painted surface): 151.5 x 54.5 cm (59 5/8 x 21 7/16 in.)\\r\\noverall (Saint Dionysius, painted surface and frame):...</td>\n",
       "      <td>Portuguese 15th Century</td>\n",
       "      <td>Portuguese 15th Century</td>\n",
       "      <td>painting</td>\n",
       "      <td>NaN</td>\n",
       "      <td>NaN</td>\n",
       "      <td>NaN</td>\n",
       "      <td>NaN</td>\n",
       "      <td>ce0ccbec-f4e6-4d7e-af41-e0b568f726eb</td>\n",
       "      <td>https://api.nga.gov/iiif/ce0ccbec-f4e6-4d7e-af41-e0b568f726eb</td>\n",
       "      <td>https://api.nga.gov/iiif/ce0ccbec-f4e6-4d7e-af41-e0b568f726eb/full/!200,200/0/default.jpg</td>\n",
       "      <td>386</td>\n",
       "      <td>1200</td>\n",
       "      <td>NaN</td>\n",
       "    </tr>\n",
       "    <tr>\n",
       "      <th>1997</th>\n",
       "      <td>41641</td>\n",
       "      <td>The Rule of Bacchus [left panel]</td>\n",
       "      <td>c. 1535</td>\n",
       "      <td>1535.0</td>\n",
       "      <td>1535.0</td>\n",
       "      <td>1501 to 1550</td>\n",
       "      <td>oil on hardboard transferred from panel</td>\n",
       "      <td>left panel: 39 x 15.9 cm (15 3/8 x 6 1/4 in.)</td>\n",
       "      <td>Altdorfer, Albrecht, Workshop of</td>\n",
       "      <td>Workshop of Albrecht Altdorfer</td>\n",
       "      <td>painting</td>\n",
       "      <td>NaN</td>\n",
       "      <td>NaN</td>\n",
       "      <td>NaN</td>\n",
       "      <td>NaN</td>\n",
       "      <td>6d7a3f41-6c87-4055-bd05-a96006f9bd74</td>\n",
       "      <td>https://api.nga.gov/iiif/6d7a3f41-6c87-4055-bd05-a96006f9bd74</td>\n",
       "      <td>https://api.nga.gov/iiif/6d7a3f41-6c87-4055-bd05-a96006f9bd74/full/!200,200/0/default.jpg</td>\n",
       "      <td>4500</td>\n",
       "      <td>2827</td>\n",
       "      <td>NaN</td>\n",
       "    </tr>\n",
       "    <tr>\n",
       "      <th>...</th>\n",
       "      <td>...</td>\n",
       "      <td>...</td>\n",
       "      <td>...</td>\n",
       "      <td>...</td>\n",
       "      <td>...</td>\n",
       "      <td>...</td>\n",
       "      <td>...</td>\n",
       "      <td>...</td>\n",
       "      <td>...</td>\n",
       "      <td>...</td>\n",
       "      <td>...</td>\n",
       "      <td>...</td>\n",
       "      <td>...</td>\n",
       "      <td>...</td>\n",
       "      <td>...</td>\n",
       "      <td>...</td>\n",
       "      <td>...</td>\n",
       "      <td>...</td>\n",
       "      <td>...</td>\n",
       "      <td>...</td>\n",
       "      <td>...</td>\n",
       "    </tr>\n",
       "    <tr>\n",
       "      <th>76678</th>\n",
       "      <td>134411</td>\n",
       "      <td>Putti and Fauns Climbing a Grapevine</td>\n",
       "      <td>1650s</td>\n",
       "      <td>1617.0</td>\n",
       "      <td>1665.0</td>\n",
       "      <td>1601 to 1650</td>\n",
       "      <td>etching with engraving on laid paper</td>\n",
       "      <td>plate: 18.5 x 16.5 cm (7 5/16 x 6 1/2 in.)\\r\\nsheet: 38.5 x 26.8 cm (15 3/16 x 10 9/16 in.)</td>\n",
       "      <td>Dorigny, Michel</td>\n",
       "      <td>Michel Dorigny</td>\n",
       "      <td>print</td>\n",
       "      <td>134155.0</td>\n",
       "      <td>Recueil de Douze Bacchantes</td>\n",
       "      <td>Recueil de douze Bacchanales</td>\n",
       "      <td>NaN</td>\n",
       "      <td>8d1aba03-3d45-4604-aa53-c9c72de76957</td>\n",
       "      <td>https://api.nga.gov/iiif/8d1aba03-3d45-4604-aa53-c9c72de76957</td>\n",
       "      <td>https://api.nga.gov/iiif/8d1aba03-3d45-4604-aa53-c9c72de76957/full/!200,200/0/default.jpg</td>\n",
       "      <td>2506</td>\n",
       "      <td>4000</td>\n",
       "      <td>NaN</td>\n",
       "    </tr>\n",
       "    <tr>\n",
       "      <th>77638</th>\n",
       "      <td>134423</td>\n",
       "      <td>Frontispiece</td>\n",
       "      <td>1650s</td>\n",
       "      <td>1610.0</td>\n",
       "      <td>1686.0</td>\n",
       "      <td>1601 to 1650</td>\n",
       "      <td>etching with engraving on laid paper</td>\n",
       "      <td>plate: 7.6 x 16.1 cm (3 x 6 5/16 in.)\\r\\nsheet: 38.5 x 26.8 cm (15 3/16 x 10 9/16 in.)</td>\n",
       "      <td>Cochin, Nicolas</td>\n",
       "      <td>Nicolas Cochin</td>\n",
       "      <td>print</td>\n",
       "      <td>134155.0</td>\n",
       "      <td>Recueil de douze Bacchanales</td>\n",
       "      <td>Recueil de douze Bacchanales</td>\n",
       "      <td>NaN</td>\n",
       "      <td>2108023a-c1e2-49f8-94ec-a6f8eb6c01f2</td>\n",
       "      <td>https://api.nga.gov/iiif/2108023a-c1e2-49f8-94ec-a6f8eb6c01f2</td>\n",
       "      <td>https://api.nga.gov/iiif/2108023a-c1e2-49f8-94ec-a6f8eb6c01f2/full/!200,200/0/default.jpg</td>\n",
       "      <td>2506</td>\n",
       "      <td>4000</td>\n",
       "      <td>NaN</td>\n",
       "    </tr>\n",
       "    <tr>\n",
       "      <th>77639</th>\n",
       "      <td>134423</td>\n",
       "      <td>Frontispiece</td>\n",
       "      <td>1650s</td>\n",
       "      <td>1610.0</td>\n",
       "      <td>1686.0</td>\n",
       "      <td>1601 to 1650</td>\n",
       "      <td>etching with engraving on laid paper</td>\n",
       "      <td>plate: 7.6 x 16.1 cm (3 x 6 5/16 in.)\\r\\nsheet: 38.5 x 26.8 cm (15 3/16 x 10 9/16 in.)</td>\n",
       "      <td>Cochin, Nicolas</td>\n",
       "      <td>Nicolas Cochin</td>\n",
       "      <td>print</td>\n",
       "      <td>134155.0</td>\n",
       "      <td>Recueil de douze Bacchanales</td>\n",
       "      <td>Recueil de douze Bacchanales</td>\n",
       "      <td>NaN</td>\n",
       "      <td>f771f5a1-666a-4f10-bb0a-bb6648dd75c9</td>\n",
       "      <td>https://api.nga.gov/iiif/f771f5a1-666a-4f10-bb0a-bb6648dd75c9</td>\n",
       "      <td>https://api.nga.gov/iiif/f771f5a1-666a-4f10-bb0a-bb6648dd75c9/full/!200,200/0/default.jpg</td>\n",
       "      <td>4000</td>\n",
       "      <td>1956</td>\n",
       "      <td>NaN</td>\n",
       "    </tr>\n",
       "    <tr>\n",
       "      <th>77662</th>\n",
       "      <td>147751</td>\n",
       "      <td>Woolworth Building June Night</td>\n",
       "      <td>1916</td>\n",
       "      <td>1916.0</td>\n",
       "      <td>1916.0</td>\n",
       "      <td>1901 to 1925</td>\n",
       "      <td>halftone offset lithograph</td>\n",
       "      <td>sheet: 140 x 89 mm</td>\n",
       "      <td>Elmer, Rachael Robinson</td>\n",
       "      <td>Rachael Robinson Elmer</td>\n",
       "      <td>print</td>\n",
       "      <td>NaN</td>\n",
       "      <td>Post Cards: New York Series I</td>\n",
       "      <td>NaN</td>\n",
       "      <td>NaN</td>\n",
       "      <td>27ab5df3-d94b-4d43-b8fe-17b4d3997269</td>\n",
       "      <td>https://api.nga.gov/iiif/27ab5df3-d94b-4d43-b8fe-17b4d3997269</td>\n",
       "      <td>https://api.nga.gov/iiif/27ab5df3-d94b-4d43-b8fe-17b4d3997269/full/!200,200/0/default.jpg</td>\n",
       "      <td>7319</td>\n",
       "      <td>11421</td>\n",
       "      <td>NaN</td>\n",
       "    </tr>\n",
       "    <tr>\n",
       "      <th>77663</th>\n",
       "      <td>147751</td>\n",
       "      <td>Woolworth Building June Night</td>\n",
       "      <td>1916</td>\n",
       "      <td>1916.0</td>\n",
       "      <td>1916.0</td>\n",
       "      <td>1901 to 1925</td>\n",
       "      <td>halftone offset lithograph</td>\n",
       "      <td>sheet: 140 x 89 mm</td>\n",
       "      <td>Elmer, Rachael Robinson</td>\n",
       "      <td>Rachael Robinson Elmer</td>\n",
       "      <td>print</td>\n",
       "      <td>NaN</td>\n",
       "      <td>Post Cards: New York Series I</td>\n",
       "      <td>NaN</td>\n",
       "      <td>NaN</td>\n",
       "      <td>e479db9b-d1f6-4390-8fd4-eb854de1a774</td>\n",
       "      <td>https://api.nga.gov/iiif/e479db9b-d1f6-4390-8fd4-eb854de1a774</td>\n",
       "      <td>https://api.nga.gov/iiif/e479db9b-d1f6-4390-8fd4-eb854de1a774/full/!200,200/0/default.jpg</td>\n",
       "      <td>11427</td>\n",
       "      <td>7286</td>\n",
       "      <td>NaN</td>\n",
       "    </tr>\n",
       "  </tbody>\n",
       "</table>\n",
       "<p>128 rows × 21 columns</p>\n",
       "</div>"
      ],
      "text/plain": [
       "       objectID                                 title   displayDate  \\\n",
       "364       46054                     Four-Panel Screen  c. 1475/1500   \n",
       "365       46054                     Four-Panel Screen  c. 1475/1500   \n",
       "366       46054                     Four-Panel Screen  c. 1475/1500   \n",
       "367       46054                     Four-Panel Screen  c. 1475/1500   \n",
       "1997      41641      The Rule of Bacchus [left panel]       c. 1535   \n",
       "...         ...                                   ...           ...   \n",
       "76678    134411  Putti and Fauns Climbing a Grapevine         1650s   \n",
       "77638    134423                          Frontispiece         1650s   \n",
       "77639    134423                          Frontispiece         1650s   \n",
       "77662    147751         Woolworth Building June Night          1916   \n",
       "77663    147751         Woolworth Building June Night          1916   \n",
       "\n",
       "       beginYear  endYear      timeSpan  \\\n",
       "364       1475.0   1500.0  1401 to 1500   \n",
       "365       1475.0   1500.0  1401 to 1500   \n",
       "366       1475.0   1500.0  1401 to 1500   \n",
       "367       1475.0   1500.0  1401 to 1500   \n",
       "1997      1535.0   1535.0  1501 to 1550   \n",
       "...          ...      ...           ...   \n",
       "76678     1617.0   1665.0  1601 to 1650   \n",
       "77638     1610.0   1686.0  1601 to 1650   \n",
       "77639     1610.0   1686.0  1601 to 1650   \n",
       "77662     1916.0   1916.0  1901 to 1925   \n",
       "77663     1916.0   1916.0  1901 to 1925   \n",
       "\n",
       "                                        medium  \\\n",
       "364                               oil on panel   \n",
       "365                               oil on panel   \n",
       "366                               oil on panel   \n",
       "367                               oil on panel   \n",
       "1997   oil on hardboard transferred from panel   \n",
       "...                                        ...   \n",
       "76678     etching with engraving on laid paper   \n",
       "77638     etching with engraving on laid paper   \n",
       "77639     etching with engraving on laid paper   \n",
       "77662               halftone offset lithograph   \n",
       "77663               halftone offset lithograph   \n",
       "\n",
       "                                                                                                                                                                                                    dimensions  \\\n",
       "364    overall size: 222 x 286.6 cm (87 3/8 x 112 13/16 in.)\\r\\noverall (Saint Dionysius, painted surface): 151.5 x 54.5 cm (59 5/8 x 21 7/16 in.)\\r\\noverall (Saint Dionysius, painted surface and frame):...   \n",
       "365    overall size: 222 x 286.6 cm (87 3/8 x 112 13/16 in.)\\r\\noverall (Saint Dionysius, painted surface): 151.5 x 54.5 cm (59 5/8 x 21 7/16 in.)\\r\\noverall (Saint Dionysius, painted surface and frame):...   \n",
       "366    overall size: 222 x 286.6 cm (87 3/8 x 112 13/16 in.)\\r\\noverall (Saint Dionysius, painted surface): 151.5 x 54.5 cm (59 5/8 x 21 7/16 in.)\\r\\noverall (Saint Dionysius, painted surface and frame):...   \n",
       "367    overall size: 222 x 286.6 cm (87 3/8 x 112 13/16 in.)\\r\\noverall (Saint Dionysius, painted surface): 151.5 x 54.5 cm (59 5/8 x 21 7/16 in.)\\r\\noverall (Saint Dionysius, painted surface and frame):...   \n",
       "1997                                                                                                                                                             left panel: 39 x 15.9 cm (15 3/8 x 6 1/4 in.)   \n",
       "...                                                                                                                                                                                                        ...   \n",
       "76678                                                                                                              plate: 18.5 x 16.5 cm (7 5/16 x 6 1/2 in.)\\r\\nsheet: 38.5 x 26.8 cm (15 3/16 x 10 9/16 in.)   \n",
       "77638                                                                                                                   plate: 7.6 x 16.1 cm (3 x 6 5/16 in.)\\r\\nsheet: 38.5 x 26.8 cm (15 3/16 x 10 9/16 in.)   \n",
       "77639                                                                                                                   plate: 7.6 x 16.1 cm (3 x 6 5/16 in.)\\r\\nsheet: 38.5 x 26.8 cm (15 3/16 x 10 9/16 in.)   \n",
       "77662                                                                                                                                                                                       sheet: 140 x 89 mm   \n",
       "77663                                                                                                                                                                                       sheet: 140 x 89 mm   \n",
       "\n",
       "                    attributionInverted                     attribution  \\\n",
       "364             Portuguese 15th Century         Portuguese 15th Century   \n",
       "365             Portuguese 15th Century         Portuguese 15th Century   \n",
       "366             Portuguese 15th Century         Portuguese 15th Century   \n",
       "367             Portuguese 15th Century         Portuguese 15th Century   \n",
       "1997   Altdorfer, Albrecht, Workshop of  Workshop of Albrecht Altdorfer   \n",
       "...                                 ...                             ...   \n",
       "76678                   Dorigny, Michel                  Michel Dorigny   \n",
       "77638                   Cochin, Nicolas                  Nicolas Cochin   \n",
       "77639                   Cochin, Nicolas                  Nicolas Cochin   \n",
       "77662           Elmer, Rachael Robinson          Rachael Robinson Elmer   \n",
       "77663           Elmer, Rachael Robinson          Rachael Robinson Elmer   \n",
       "\n",
       "      classification  parentID                      portfolio  \\\n",
       "364         painting       NaN                            NaN   \n",
       "365         painting       NaN                            NaN   \n",
       "366         painting       NaN                            NaN   \n",
       "367         painting       NaN                            NaN   \n",
       "1997        painting       NaN                            NaN   \n",
       "...              ...       ...                            ...   \n",
       "76678          print  134155.0    Recueil de Douze Bacchantes   \n",
       "77638          print  134155.0   Recueil de douze Bacchanales   \n",
       "77639          print  134155.0   Recueil de douze Bacchanales   \n",
       "77662          print       NaN  Post Cards: New York Series I   \n",
       "77663          print       NaN  Post Cards: New York Series I   \n",
       "\n",
       "                             series volume  \\\n",
       "364                             NaN    NaN   \n",
       "365                             NaN    NaN   \n",
       "366                             NaN    NaN   \n",
       "367                             NaN    NaN   \n",
       "1997                            NaN    NaN   \n",
       "...                             ...    ...   \n",
       "76678  Recueil de douze Bacchanales    NaN   \n",
       "77638  Recueil de douze Bacchanales    NaN   \n",
       "77639  Recueil de douze Bacchanales    NaN   \n",
       "77662                           NaN    NaN   \n",
       "77663                           NaN    NaN   \n",
       "\n",
       "                                       uuid  \\\n",
       "364    9d7fd726-6565-49b5-ae42-fd8f570fbf08   \n",
       "365    a3bbffa3-3e50-465a-832a-fff278cd945c   \n",
       "366    b862fdfb-bb90-45fe-9456-5f02a84bc6bc   \n",
       "367    ce0ccbec-f4e6-4d7e-af41-e0b568f726eb   \n",
       "1997   6d7a3f41-6c87-4055-bd05-a96006f9bd74   \n",
       "...                                     ...   \n",
       "76678  8d1aba03-3d45-4604-aa53-c9c72de76957   \n",
       "77638  2108023a-c1e2-49f8-94ec-a6f8eb6c01f2   \n",
       "77639  f771f5a1-666a-4f10-bb0a-bb6648dd75c9   \n",
       "77662  27ab5df3-d94b-4d43-b8fe-17b4d3997269   \n",
       "77663  e479db9b-d1f6-4390-8fd4-eb854de1a774   \n",
       "\n",
       "                                                                 URL  \\\n",
       "364    https://api.nga.gov/iiif/9d7fd726-6565-49b5-ae42-fd8f570fbf08   \n",
       "365    https://api.nga.gov/iiif/a3bbffa3-3e50-465a-832a-fff278cd945c   \n",
       "366    https://api.nga.gov/iiif/b862fdfb-bb90-45fe-9456-5f02a84bc6bc   \n",
       "367    https://api.nga.gov/iiif/ce0ccbec-f4e6-4d7e-af41-e0b568f726eb   \n",
       "1997   https://api.nga.gov/iiif/6d7a3f41-6c87-4055-bd05-a96006f9bd74   \n",
       "...                                                              ...   \n",
       "76678  https://api.nga.gov/iiif/8d1aba03-3d45-4604-aa53-c9c72de76957   \n",
       "77638  https://api.nga.gov/iiif/2108023a-c1e2-49f8-94ec-a6f8eb6c01f2   \n",
       "77639  https://api.nga.gov/iiif/f771f5a1-666a-4f10-bb0a-bb6648dd75c9   \n",
       "77662  https://api.nga.gov/iiif/27ab5df3-d94b-4d43-b8fe-17b4d3997269   \n",
       "77663  https://api.nga.gov/iiif/e479db9b-d1f6-4390-8fd4-eb854de1a774   \n",
       "\n",
       "                                                                                        thumbURL  \\\n",
       "364    https://api.nga.gov/iiif/9d7fd726-6565-49b5-ae42-fd8f570fbf08/full/!200,200/0/default.jpg   \n",
       "365    https://api.nga.gov/iiif/a3bbffa3-3e50-465a-832a-fff278cd945c/full/!200,200/0/default.jpg   \n",
       "366    https://api.nga.gov/iiif/b862fdfb-bb90-45fe-9456-5f02a84bc6bc/full/!200,200/0/default.jpg   \n",
       "367    https://api.nga.gov/iiif/ce0ccbec-f4e6-4d7e-af41-e0b568f726eb/full/!200,200/0/default.jpg   \n",
       "1997   https://api.nga.gov/iiif/6d7a3f41-6c87-4055-bd05-a96006f9bd74/full/!200,200/0/default.jpg   \n",
       "...                                                                                          ...   \n",
       "76678  https://api.nga.gov/iiif/8d1aba03-3d45-4604-aa53-c9c72de76957/full/!200,200/0/default.jpg   \n",
       "77638  https://api.nga.gov/iiif/2108023a-c1e2-49f8-94ec-a6f8eb6c01f2/full/!200,200/0/default.jpg   \n",
       "77639  https://api.nga.gov/iiif/f771f5a1-666a-4f10-bb0a-bb6648dd75c9/full/!200,200/0/default.jpg   \n",
       "77662  https://api.nga.gov/iiif/27ab5df3-d94b-4d43-b8fe-17b4d3997269/full/!200,200/0/default.jpg   \n",
       "77663  https://api.nga.gov/iiif/e479db9b-d1f6-4390-8fd4-eb854de1a774/full/!200,200/0/default.jpg   \n",
       "\n",
       "       width  height  maxpixels  \n",
       "364      401    1200        NaN  \n",
       "365      394    1200        NaN  \n",
       "366      383    1200        NaN  \n",
       "367      386    1200        NaN  \n",
       "1997    4500    2827        NaN  \n",
       "...      ...     ...        ...  \n",
       "76678   2506    4000        NaN  \n",
       "77638   2506    4000        NaN  \n",
       "77639   4000    1956        NaN  \n",
       "77662   7319   11421        NaN  \n",
       "77663  11427    7286        NaN  \n",
       "\n",
       "[128 rows x 21 columns]"
      ]
     },
     "execution_count": 120,
     "metadata": {},
     "output_type": "execute_result"
    }
   ],
   "source": [
    "KeyAttrs = [\"objectID\",\"title\",\"classification\",\"thumbURL\"] # only pulling out these columns to check for digital image validity for each artwork-object\n",
    "\n",
    "df_dup = df_2D_7[df_2D_7[\"objectID\"].duplicated(keep = False)]\n",
    "df_dup[KeyAttrs]\n",
    "df_dup\n",
    "# df_dup[\"objectID\"].nunique() # 59 distinct objectIDs (out of 81868 objects) have more than one images)"
   ]
  },
  {
   "cell_type": "code",
   "execution_count": 89,
   "metadata": {},
   "outputs": [
    {
     "data": {
      "text/html": [
       "<div>\n",
       "<style scoped>\n",
       "    .dataframe tbody tr th:only-of-type {\n",
       "        vertical-align: middle;\n",
       "    }\n",
       "\n",
       "    .dataframe tbody tr th {\n",
       "        vertical-align: top;\n",
       "    }\n",
       "\n",
       "    .dataframe thead th {\n",
       "        text-align: right;\n",
       "    }\n",
       "</style>\n",
       "<table border=\"1\" class=\"dataframe\">\n",
       "  <thead>\n",
       "    <tr style=\"text-align: right;\">\n",
       "      <th></th>\n",
       "      <th>objectID</th>\n",
       "      <th>title</th>\n",
       "      <th>classification</th>\n",
       "      <th>thumbURL</th>\n",
       "    </tr>\n",
       "  </thead>\n",
       "  <tbody>\n",
       "    <tr>\n",
       "      <th>364</th>\n",
       "      <td>46054</td>\n",
       "      <td>Four-Panel Screen</td>\n",
       "      <td>painting</td>\n",
       "      <td>https://api.nga.gov/iiif/9d7fd726-6565-49b5-ae42-fd8f570fbf08/full/!200,200/0/default.jpg</td>\n",
       "    </tr>\n",
       "    <tr>\n",
       "      <th>365</th>\n",
       "      <td>46054</td>\n",
       "      <td>Four-Panel Screen</td>\n",
       "      <td>painting</td>\n",
       "      <td>https://api.nga.gov/iiif/a3bbffa3-3e50-465a-832a-fff278cd945c/full/!200,200/0/default.jpg</td>\n",
       "    </tr>\n",
       "    <tr>\n",
       "      <th>366</th>\n",
       "      <td>46054</td>\n",
       "      <td>Four-Panel Screen</td>\n",
       "      <td>painting</td>\n",
       "      <td>https://api.nga.gov/iiif/b862fdfb-bb90-45fe-9456-5f02a84bc6bc/full/!200,200/0/default.jpg</td>\n",
       "    </tr>\n",
       "    <tr>\n",
       "      <th>367</th>\n",
       "      <td>46054</td>\n",
       "      <td>Four-Panel Screen</td>\n",
       "      <td>painting</td>\n",
       "      <td>https://api.nga.gov/iiif/ce0ccbec-f4e6-4d7e-af41-e0b568f726eb/full/!200,200/0/default.jpg</td>\n",
       "    </tr>\n",
       "  </tbody>\n",
       "</table>\n",
       "</div>"
      ],
      "text/plain": [
       "     objectID              title classification  \\\n",
       "364     46054  Four-Panel Screen       painting   \n",
       "365     46054  Four-Panel Screen       painting   \n",
       "366     46054  Four-Panel Screen       painting   \n",
       "367     46054  Four-Panel Screen       painting   \n",
       "\n",
       "                                                                                      thumbURL  \n",
       "364  https://api.nga.gov/iiif/9d7fd726-6565-49b5-ae42-fd8f570fbf08/full/!200,200/0/default.jpg  \n",
       "365  https://api.nga.gov/iiif/a3bbffa3-3e50-465a-832a-fff278cd945c/full/!200,200/0/default.jpg  \n",
       "366  https://api.nga.gov/iiif/b862fdfb-bb90-45fe-9456-5f02a84bc6bc/full/!200,200/0/default.jpg  \n",
       "367  https://api.nga.gov/iiif/ce0ccbec-f4e6-4d7e-af41-e0b568f726eb/full/!200,200/0/default.jpg  "
      ]
     },
     "execution_count": 89,
     "metadata": {},
     "output_type": "execute_result"
    }
   ],
   "source": [
    "df_dup[KeyAttrs][0:4]"
   ]
  },
  {
   "cell_type": "code",
   "execution_count": 90,
   "metadata": {},
   "outputs": [
    {
     "data": {
      "text/plain": [
       "364    https://api.nga.gov/iiif/9d7fd726-6565-49b5-ae42-fd8f570fbf08/full/!200,200/0/default.jpg\n",
       "365    https://api.nga.gov/iiif/a3bbffa3-3e50-465a-832a-fff278cd945c/full/!200,200/0/default.jpg\n",
       "366    https://api.nga.gov/iiif/b862fdfb-bb90-45fe-9456-5f02a84bc6bc/full/!200,200/0/default.jpg\n",
       "367    https://api.nga.gov/iiif/ce0ccbec-f4e6-4d7e-af41-e0b568f726eb/full/!200,200/0/default.jpg\n",
       "Name: thumbURL, dtype: object"
      ]
     },
     "execution_count": 90,
     "metadata": {},
     "output_type": "execute_result"
    }
   ],
   "source": [
    "df_dup[KeyAttrs].iloc[0:4,3]\n",
    "# this is slicing for cells @:\n",
    "# column-index = 3 (i.e. thumbURL), and \n",
    "# row-index = 0~4 (i.e. the 4 components of artwork titled \"Four-Panel Screen\" )"
   ]
  },
  {
   "cell_type": "code",
   "execution_count": 91,
   "metadata": {},
   "outputs": [
    {
     "data": {
      "text/plain": [
       "3782"
      ]
     },
     "execution_count": 91,
     "metadata": {},
     "output_type": "execute_result"
    }
   ],
   "source": [
    "df_2D_paint = df_2D_7[ df_2D_7[\"classification\"] == \"painting\"]\n",
    "df_2D_paint.shape # 3788 counts of painting-images\n",
    "df_2D_paint[\"objectID\"].nunique() # 3782 counts of distinct paintings"
   ]
  },
  {
   "cell_type": "code",
   "execution_count": 92,
   "metadata": {},
   "outputs": [
    {
     "data": {
      "text/plain": [
       "32135"
      ]
     },
     "execution_count": 92,
     "metadata": {},
     "output_type": "execute_result"
    }
   ],
   "source": [
    "df_2D_draw = df_2D_7[ df_2D_7[\"classification\"] == \"drawing\"]\n",
    "df_2D_draw.shape # 32155 counts of drawing-images\n",
    "df_2D_draw[\"objectID\"].nunique() #  counts of distinct paintings"
   ]
  },
  {
   "cell_type": "code",
   "execution_count": 93,
   "metadata": {},
   "outputs": [
    {
     "data": {
      "text/plain": [
       "45951"
      ]
     },
     "execution_count": 93,
     "metadata": {},
     "output_type": "execute_result"
    }
   ],
   "source": [
    "df_2D_print = df_2D_7[ df_2D_7[\"classification\"] == \"print\"]\n",
    "df_2D_print.shape # 45994 counts of drawing-images\n",
    "df_2D_print[\"objectID\"].nunique() #  counts of distinct paintings"
   ]
  },
  {
   "cell_type": "code",
   "execution_count": 94,
   "metadata": {},
   "outputs": [
    {
     "data": {
      "text/plain": [
       "'https://api.nga.gov/iiif/7b170a4c-9d44-475c-b294-cee6f43d88af/full/!200,200/0/default.jpg'"
      ]
     },
     "execution_count": 94,
     "metadata": {},
     "output_type": "execute_result"
    }
   ],
   "source": [
    "# Images for Paintings\n",
    "df_2D_paint[KeyAttrs]\n",
    "\n",
    "# to check a specific artwork-object for its digital image URL:\n",
    "df_2D_paint[KeyAttrs].iloc[0,3] \n",
    "# get the cell with row_index = 4 (i.e. objectID = 19), column_index = 3 (i.e. attribute named \"thumbURL\")\n",
    "# SYNTAX: dataframe.iloc[row_index, column_index]"
   ]
  },
  {
   "cell_type": "code",
   "execution_count": 95,
   "metadata": {
    "scrolled": true
   },
   "outputs": [
    {
     "data": {
      "text/plain": [
       "'https://api.nga.gov/iiif/2303ecb9-b192-4833-8d33-29c0ccb7a07f/full/!200,200/0/default.jpg'"
      ]
     },
     "execution_count": 95,
     "metadata": {},
     "output_type": "execute_result"
    }
   ],
   "source": [
    "# Images for Drawings\n",
    "df_2D_draw[KeyAttrs]\n",
    "\n",
    "df_2D_draw[KeyAttrs].iloc[32154,3] # objectID=165301, title = \"The Ballet\""
   ]
  },
  {
   "cell_type": "code",
   "execution_count": 96,
   "metadata": {},
   "outputs": [
    {
     "data": {
      "text/plain": [
       "'https://api.nga.gov/iiif/bd772828-3571-450c-a79e-bb547c8ec9c1/full/!200,200/0/default.jpg'"
      ]
     },
     "execution_count": 96,
     "metadata": {},
     "output_type": "execute_result"
    }
   ],
   "source": [
    "# Images for Prints\n",
    "df_2D_print[KeyAttrs]\n",
    "\n",
    "df_2D_print[KeyAttrs].iloc[45993,3] # objectID = 32572, title = \"American Flamingo\""
   ]
  },
  {
   "cell_type": "markdown",
   "metadata": {},
   "source": [
    "### how to get the value of a specific cell in a table / dataframe\n",
    "\n",
    "`.iloc[]` function\n",
    "* https://www.w3schools.com/python/pandas/ref_df_iloc.asp\n",
    "* https://pandas.pydata.org/docs/reference/api/pandas.DataFrame.iloc.html\n",
    "\n",
    "To select multiple tuples from multiple columns\n",
    "* https://www.geeksforgeeks.org/how-to-select-multiple-columns-in-a-pandas-dataframe/"
   ]
  },
  {
   "cell_type": "markdown",
   "metadata": {},
   "source": [
    "## 2.4: Output 2 Tables: \"obejects_cleaned.csv\" && \"objects_images_cleaned.csv\"\n",
    "\n",
    "**Pandas Create New DataFrame By Selecting Specific Columns**  \n",
    "* https://sparkbyexamples.com/pandas/pandas-create-new-dataframe-by-selecting-specific-columns/\n",
    "\n",
    "**Drop the duplicated tuples**\n",
    "* https://pandas.pydata.org/docs/reference/api/pandas.DataFrame.drop_duplicates.html\n",
    "* ALSO see CIT591-M6-Slide14\n",
    "* By default, this will look at all columns to identify and drop duplicate rows in the data.\n",
    "* to drop duplicates based on a specific column , use the `subset=` parameter to specify the column name you want to use to compare and drop duplicates based on \n",
    "\n",
    "row index not matching with row counts  \n",
    "https://stackoverflow.com/questions/53135481/pandas-dataframe-index-length-doesnt-match-number-of-rows\n",
    "\n",
    "Solve DtypeWarning: `Columns have mixed types. Specify dtype option on import or set low_memory=False`\n",
    "https://www.roelpeters.be/solved-dtypewarning-columns-have-mixed-types-specify-dtype-option-on-import-or-set-low-memory-in-pandas/"
   ]
  },
  {
   "cell_type": "code",
   "execution_count": 121,
   "metadata": {},
   "outputs": [
    {
     "data": {
      "text/plain": [
       "81868"
      ]
     },
     "execution_count": 121,
     "metadata": {},
     "output_type": "execute_result"
    }
   ],
   "source": [
    "# --------- 1) Extract the \"objects.csv\" part of the JOINT table ----------------\n",
    "df1_clean_raw = df_2D_7[['objectID', 'title', 'displayDate', 'beginYear', 'endYear', 'timeSpan',\n",
    "       'medium', 'dimensions','attributionInverted', 'attribution', 'classification', 'parentID',\n",
    "       'portfolio', 'series', 'volume']].copy()\n",
    "\n",
    "#df1_clean # 81937 tuples with duplicates\n",
    "df1_clean = df1_clean_raw.drop_duplicates(subset=\"objectID\")\n",
    "df1_clean = df1_clean.reset_index(drop=True) # reset row indexing\n",
    "\n",
    "# ---- 1.2) check if any duplicated objectID exist ----------------------\n",
    "#df1_dup = df1_clean[df1_clean[\"objectID\"].duplicated(keep = False)]\n",
    "#df1_dup\n",
    "\n",
    "#df1_clean.head(5) # 81937 tuples with duplicates ==> 81868 tuples without duplicates\n",
    "df1_clean.shape # 81868 tuples x 18 columns\n",
    "df1_clean[\"objectID\"]"
   ]
  },
  {
   "cell_type": "code",
   "execution_count": 98,
   "metadata": {},
   "outputs": [
    {
     "data": {
      "text/html": [
       "<div>\n",
       "<style scoped>\n",
       "    .dataframe tbody tr th:only-of-type {\n",
       "        vertical-align: middle;\n",
       "    }\n",
       "\n",
       "    .dataframe tbody tr th {\n",
       "        vertical-align: top;\n",
       "    }\n",
       "\n",
       "    .dataframe thead th {\n",
       "        text-align: right;\n",
       "    }\n",
       "</style>\n",
       "<table border=\"1\" class=\"dataframe\">\n",
       "  <thead>\n",
       "    <tr style=\"text-align: right;\">\n",
       "      <th></th>\n",
       "      <th>uuid</th>\n",
       "      <th>objectID</th>\n",
       "      <th>URL</th>\n",
       "      <th>thumbURL</th>\n",
       "      <th>width</th>\n",
       "      <th>height</th>\n",
       "      <th>maxpixels</th>\n",
       "    </tr>\n",
       "  </thead>\n",
       "  <tbody>\n",
       "    <tr>\n",
       "      <th>0</th>\n",
       "      <td>7b170a4c-9d44-475c-b294-cee6f43d88af</td>\n",
       "      <td>0</td>\n",
       "      <td>https://api.nga.gov/iiif/7b170a4c-9d44-475c-b294-cee6f43d88af</td>\n",
       "      <td>https://api.nga.gov/iiif/7b170a4c-9d44-475c-b294-cee6f43d88af/full/!200,200/0/default.jpg</td>\n",
       "      <td>2846</td>\n",
       "      <td>5153</td>\n",
       "      <td>NaN</td>\n",
       "    </tr>\n",
       "    <tr>\n",
       "      <th>1</th>\n",
       "      <td>7bbcfd01-e774-46e7-96d1-a3b03598cd8a</td>\n",
       "      <td>1</td>\n",
       "      <td>https://api.nga.gov/iiif/7bbcfd01-e774-46e7-96d1-a3b03598cd8a</td>\n",
       "      <td>https://api.nga.gov/iiif/7bbcfd01-e774-46e7-96d1-a3b03598cd8a/full/!200,200/0/default.jpg</td>\n",
       "      <td>6004</td>\n",
       "      <td>15544</td>\n",
       "      <td>NaN</td>\n",
       "    </tr>\n",
       "    <tr>\n",
       "      <th>2</th>\n",
       "      <td>e8a1acb4-f60a-477a-9bfe-61fa5072c514</td>\n",
       "      <td>2</td>\n",
       "      <td>https://api.nga.gov/iiif/e8a1acb4-f60a-477a-9bfe-61fa5072c514</td>\n",
       "      <td>https://api.nga.gov/iiif/e8a1acb4-f60a-477a-9bfe-61fa5072c514/full/!200,200/0/default.jpg</td>\n",
       "      <td>2152</td>\n",
       "      <td>4827</td>\n",
       "      <td>NaN</td>\n",
       "    </tr>\n",
       "    <tr>\n",
       "      <th>3</th>\n",
       "      <td>e6497b39-66a9-4b6b-bf2b-c1633d20c0b6</td>\n",
       "      <td>18</td>\n",
       "      <td>https://api.nga.gov/iiif/e6497b39-66a9-4b6b-bf2b-c1633d20c0b6</td>\n",
       "      <td>https://api.nga.gov/iiif/e6497b39-66a9-4b6b-bf2b-c1633d20c0b6/full/!200,200/0/default.jpg</td>\n",
       "      <td>2333</td>\n",
       "      <td>2996</td>\n",
       "      <td>NaN</td>\n",
       "    </tr>\n",
       "    <tr>\n",
       "      <th>4</th>\n",
       "      <td>a21cc457-7ddf-4c4d-9934-8039bc919864</td>\n",
       "      <td>19</td>\n",
       "      <td>https://api.nga.gov/iiif/a21cc457-7ddf-4c4d-9934-8039bc919864</td>\n",
       "      <td>https://api.nga.gov/iiif/a21cc457-7ddf-4c4d-9934-8039bc919864/full/!200,200/0/default.jpg</td>\n",
       "      <td>5395</td>\n",
       "      <td>7270</td>\n",
       "      <td>NaN</td>\n",
       "    </tr>\n",
       "    <tr>\n",
       "      <th>...</th>\n",
       "      <td>...</td>\n",
       "      <td>...</td>\n",
       "      <td>...</td>\n",
       "      <td>...</td>\n",
       "      <td>...</td>\n",
       "      <td>...</td>\n",
       "      <td>...</td>\n",
       "    </tr>\n",
       "    <tr>\n",
       "      <th>81932</th>\n",
       "      <td>f457a3e8-5531-4e4a-a0b9-29f23d9a4ff3</td>\n",
       "      <td>222954</td>\n",
       "      <td>https://api.nga.gov/iiif/f457a3e8-5531-4e4a-a0b9-29f23d9a4ff3</td>\n",
       "      <td>https://api.nga.gov/iiif/f457a3e8-5531-4e4a-a0b9-29f23d9a4ff3/full/!200,200/0/default.jpg</td>\n",
       "      <td>10693</td>\n",
       "      <td>8178</td>\n",
       "      <td>NaN</td>\n",
       "    </tr>\n",
       "    <tr>\n",
       "      <th>81933</th>\n",
       "      <td>039df406-4517-4f75-8195-d0b668289b2d</td>\n",
       "      <td>222956</td>\n",
       "      <td>https://api.nga.gov/iiif/039df406-4517-4f75-8195-d0b668289b2d</td>\n",
       "      <td>https://api.nga.gov/iiif/039df406-4517-4f75-8195-d0b668289b2d/full/!200,200/0/default.jpg</td>\n",
       "      <td>10578</td>\n",
       "      <td>8074</td>\n",
       "      <td>NaN</td>\n",
       "    </tr>\n",
       "    <tr>\n",
       "      <th>81934</th>\n",
       "      <td>412ed7cb-5244-42f5-96d6-7264928ba491</td>\n",
       "      <td>222965</td>\n",
       "      <td>https://api.nga.gov/iiif/412ed7cb-5244-42f5-96d6-7264928ba491</td>\n",
       "      <td>https://api.nga.gov/iiif/412ed7cb-5244-42f5-96d6-7264928ba491/full/!200,200/0/default.jpg</td>\n",
       "      <td>10470</td>\n",
       "      <td>7953</td>\n",
       "      <td>NaN</td>\n",
       "    </tr>\n",
       "    <tr>\n",
       "      <th>81935</th>\n",
       "      <td>9c5398e2-3be4-4d1d-b293-72830423d0db</td>\n",
       "      <td>32452</td>\n",
       "      <td>https://api.nga.gov/iiif/9c5398e2-3be4-4d1d-b293-72830423d0db</td>\n",
       "      <td>https://api.nga.gov/iiif/9c5398e2-3be4-4d1d-b293-72830423d0db/full/!200,200/0/default.jpg</td>\n",
       "      <td>4950</td>\n",
       "      <td>7350</td>\n",
       "      <td>NaN</td>\n",
       "    </tr>\n",
       "    <tr>\n",
       "      <th>81936</th>\n",
       "      <td>bd772828-3571-450c-a79e-bb547c8ec9c1</td>\n",
       "      <td>32572</td>\n",
       "      <td>https://api.nga.gov/iiif/bd772828-3571-450c-a79e-bb547c8ec9c1</td>\n",
       "      <td>https://api.nga.gov/iiif/bd772828-3571-450c-a79e-bb547c8ec9c1/full/!200,200/0/default.jpg</td>\n",
       "      <td>4669</td>\n",
       "      <td>6886</td>\n",
       "      <td>NaN</td>\n",
       "    </tr>\n",
       "  </tbody>\n",
       "</table>\n",
       "<p>81937 rows × 7 columns</p>\n",
       "</div>"
      ],
      "text/plain": [
       "                                       uuid  objectID  \\\n",
       "0      7b170a4c-9d44-475c-b294-cee6f43d88af         0   \n",
       "1      7bbcfd01-e774-46e7-96d1-a3b03598cd8a         1   \n",
       "2      e8a1acb4-f60a-477a-9bfe-61fa5072c514         2   \n",
       "3      e6497b39-66a9-4b6b-bf2b-c1633d20c0b6        18   \n",
       "4      a21cc457-7ddf-4c4d-9934-8039bc919864        19   \n",
       "...                                     ...       ...   \n",
       "81932  f457a3e8-5531-4e4a-a0b9-29f23d9a4ff3    222954   \n",
       "81933  039df406-4517-4f75-8195-d0b668289b2d    222956   \n",
       "81934  412ed7cb-5244-42f5-96d6-7264928ba491    222965   \n",
       "81935  9c5398e2-3be4-4d1d-b293-72830423d0db     32452   \n",
       "81936  bd772828-3571-450c-a79e-bb547c8ec9c1     32572   \n",
       "\n",
       "                                                                 URL  \\\n",
       "0      https://api.nga.gov/iiif/7b170a4c-9d44-475c-b294-cee6f43d88af   \n",
       "1      https://api.nga.gov/iiif/7bbcfd01-e774-46e7-96d1-a3b03598cd8a   \n",
       "2      https://api.nga.gov/iiif/e8a1acb4-f60a-477a-9bfe-61fa5072c514   \n",
       "3      https://api.nga.gov/iiif/e6497b39-66a9-4b6b-bf2b-c1633d20c0b6   \n",
       "4      https://api.nga.gov/iiif/a21cc457-7ddf-4c4d-9934-8039bc919864   \n",
       "...                                                              ...   \n",
       "81932  https://api.nga.gov/iiif/f457a3e8-5531-4e4a-a0b9-29f23d9a4ff3   \n",
       "81933  https://api.nga.gov/iiif/039df406-4517-4f75-8195-d0b668289b2d   \n",
       "81934  https://api.nga.gov/iiif/412ed7cb-5244-42f5-96d6-7264928ba491   \n",
       "81935  https://api.nga.gov/iiif/9c5398e2-3be4-4d1d-b293-72830423d0db   \n",
       "81936  https://api.nga.gov/iiif/bd772828-3571-450c-a79e-bb547c8ec9c1   \n",
       "\n",
       "                                                                                        thumbURL  \\\n",
       "0      https://api.nga.gov/iiif/7b170a4c-9d44-475c-b294-cee6f43d88af/full/!200,200/0/default.jpg   \n",
       "1      https://api.nga.gov/iiif/7bbcfd01-e774-46e7-96d1-a3b03598cd8a/full/!200,200/0/default.jpg   \n",
       "2      https://api.nga.gov/iiif/e8a1acb4-f60a-477a-9bfe-61fa5072c514/full/!200,200/0/default.jpg   \n",
       "3      https://api.nga.gov/iiif/e6497b39-66a9-4b6b-bf2b-c1633d20c0b6/full/!200,200/0/default.jpg   \n",
       "4      https://api.nga.gov/iiif/a21cc457-7ddf-4c4d-9934-8039bc919864/full/!200,200/0/default.jpg   \n",
       "...                                                                                          ...   \n",
       "81932  https://api.nga.gov/iiif/f457a3e8-5531-4e4a-a0b9-29f23d9a4ff3/full/!200,200/0/default.jpg   \n",
       "81933  https://api.nga.gov/iiif/039df406-4517-4f75-8195-d0b668289b2d/full/!200,200/0/default.jpg   \n",
       "81934  https://api.nga.gov/iiif/412ed7cb-5244-42f5-96d6-7264928ba491/full/!200,200/0/default.jpg   \n",
       "81935  https://api.nga.gov/iiif/9c5398e2-3be4-4d1d-b293-72830423d0db/full/!200,200/0/default.jpg   \n",
       "81936  https://api.nga.gov/iiif/bd772828-3571-450c-a79e-bb547c8ec9c1/full/!200,200/0/default.jpg   \n",
       "\n",
       "       width  height  maxpixels  \n",
       "0       2846    5153        NaN  \n",
       "1       6004   15544        NaN  \n",
       "2       2152    4827        NaN  \n",
       "3       2333    2996        NaN  \n",
       "4       5395    7270        NaN  \n",
       "...      ...     ...        ...  \n",
       "81932  10693    8178        NaN  \n",
       "81933  10578    8074        NaN  \n",
       "81934  10470    7953        NaN  \n",
       "81935   4950    7350        NaN  \n",
       "81936   4669    6886        NaN  \n",
       "\n",
       "[81937 rows x 7 columns]"
      ]
     },
     "execution_count": 98,
     "metadata": {},
     "output_type": "execute_result"
    }
   ],
   "source": [
    "# --------- 2) Extract the \"objects_images.csv\" part of the JOINT table ----------------\n",
    "df7_clean = df_2D_7[['uuid', 'objectID', 'URL', 'thumbURL', 'width', 'height', 'maxpixels']].copy()\n",
    "df7_clean # 81937 tuples\n",
    "\n",
    "df7_clean = df7_clean.drop_duplicates(subset=\"uuid\")\n",
    "df7_clean = df7_clean.reset_index(drop=True)\n",
    "df7_clean # 81937 tuples, there are no duplicated uuid/images\n",
    "\n",
    "#df7_clean.head(5)\n",
    "#df7_clean.shape # 81937 tuples x 7 columns\n",
    "# 81868 objectID --> 81937 images"
   ]
  },
  {
   "cell_type": "markdown",
   "metadata": {},
   "source": [
    "### 2.4 Issue: outputted .csv file has 81874 tuples (should be 81868), extra 6 tuples????\n",
    "\n",
    "#### SOLUTION: output dataframe as `.xlse` file, then use EXCEL software to save as `.csv` file\n",
    "\n",
    "* Write pandas DataFrame to CSV file. The result gets extra rows  https://stackoverflow.com/questions/68372151/write-pandas-dataframe-to-csv-file-the-result-gets-extra-rows\n",
    "\n",
    "**`pd.to_excel()` method**\n",
    "* https://sparkbyexamples.com/pandas/pandas-read-excel-with-examples/\n",
    "\n",
    "\n",
    "`isnull()`  \n",
    "* https://www.geeksforgeeks.org/python-pandas-isnull-and-notnull/  \n",
    "* https://pandas.pydata.org/docs/reference/api/pandas.isnull.html"
   ]
  },
  {
   "cell_type": "markdown",
   "metadata": {},
   "source": [
    "## 2.5 Output cleaned `objects.xlsx` & `objects_images.csv`\n",
    "\n",
    "Output `.csv`/`.xlsx` file to a different directory:\n",
    "* https://dataindependent.com/pandas/pandas-write-to-csv-pd-dataframe-to_csv/"
   ]
  },
  {
   "cell_type": "code",
   "execution_count": 99,
   "metadata": {},
   "outputs": [],
   "source": [
    "# --------- 1) objects.csv ---------------------\n",
    "# df1_clean.to_csv(\"01_2_objects_cleaned.csv\", encoding = 'utf-8', index = False) # ISSUE: produced extra 6 tuples\n",
    "df1_clean.to_excel(\"01_2_objects_cleaned.xlsx\", encoding = 'utf-8', index = False)\n",
    "# ----------to `Ready` folder (Database Ready) ------------\n",
    "df1_clean.to_excel(\"../Ready/01_objects.xlsx\", encoding = 'utf-8', index = False)\n",
    "# CHECKED output .csv file is INTACT (i.e. 81868 tuples)\n",
    "\n",
    "\n",
    "# ----------2) objects_images.csv file -----------\n",
    "df7_clean.to_csv(\"07_1_objects_images_cleaned.csv\", encoding = 'utf-8', index = False)\n",
    "# ----------to `Ready` folder (Database Ready) ------------ \n",
    "df7_clean.to_csv(\"../Ready/07_objects_images.csv\", encoding = 'utf-8', index = False)"
   ]
  },
  {
   "cell_type": "code",
   "execution_count": 100,
   "metadata": {},
   "outputs": [],
   "source": [
    "# --------- Testing Coverting .xlsx to .csv file -------------\n",
    "#df1t = pd.read_excel('01_2_objects_cleaned.xlsx')\n",
    "#df1t\n",
    "#df1t.to_csv(\"01_2_objects_cleaned.csv\", encoding = 'utf-8', index = False)\n",
    "# OBSERVATION: still encounter the same issue as writing extra 6 tuples out\n",
    "# USE Excel App to convert .xlsx to .csv directly"
   ]
  },
  {
   "cell_type": "markdown",
   "metadata": {},
   "source": [
    "if need to manipulate file directory: `os.path.join()` method\n",
    "* https://www.geeksforgeeks.org/python-os-path-join-method/"
   ]
  },
  {
   "cell_type": "markdown",
   "metadata": {},
   "source": [
    "## 2.5 Use Excel-app to Convert `objects.xlsx` to `objects.csv`"
   ]
  }
 ],
 "metadata": {
  "kernelspec": {
   "display_name": "Python 3",
   "language": "python",
   "name": "python3"
  },
  "language_info": {
   "codemirror_mode": {
    "name": "ipython",
    "version": 3
   },
   "file_extension": ".py",
   "mimetype": "text/x-python",
   "name": "python",
   "nbconvert_exporter": "python",
   "pygments_lexer": "ipython3",
   "version": "3.8.5"
  }
 },
 "nbformat": 4,
 "nbformat_minor": 4
}
