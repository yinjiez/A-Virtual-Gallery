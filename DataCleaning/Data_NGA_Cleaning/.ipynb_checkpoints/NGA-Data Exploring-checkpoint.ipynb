{
 "cells": [
  {
   "cell_type": "markdown",
   "metadata": {},
   "source": [
    "# 1st `#1` Table: `objects`"
   ]
  },
  {
   "cell_type": "code",
   "execution_count": 2,
   "metadata": {},
   "outputs": [
    {
     "data": {
      "text/plain": [
       "(81868, 15)"
      ]
     },
     "execution_count": 2,
     "metadata": {},
     "output_type": "execute_result"
    }
   ],
   "source": [
    "import numpy as np\n",
    "import pandas as pd\n",
    "\n",
    "pd.options.display.max_columns = 50\n",
    "pd.options.display.max_colwidth = 200\n",
    "\n",
    "df1 = pd.read_csv('01_2_objects_cleaned.csv', encoding = 'utf-8', low_memory = False)\n",
    "\n",
    "#df1 #(overview of the table)\n",
    "df1.shape"
   ]
  },
  {
   "cell_type": "code",
   "execution_count": 4,
   "metadata": {},
   "outputs": [
    {
     "data": {
      "text/html": [
       "<div>\n",
       "<style scoped>\n",
       "    .dataframe tbody tr th:only-of-type {\n",
       "        vertical-align: middle;\n",
       "    }\n",
       "\n",
       "    .dataframe tbody tr th {\n",
       "        vertical-align: top;\n",
       "    }\n",
       "\n",
       "    .dataframe thead th {\n",
       "        text-align: right;\n",
       "    }\n",
       "</style>\n",
       "<table border=\"1\" class=\"dataframe\">\n",
       "  <thead>\n",
       "    <tr style=\"text-align: right;\">\n",
       "      <th></th>\n",
       "      <th>objectID</th>\n",
       "      <th>title</th>\n",
       "      <th>displayDate</th>\n",
       "      <th>beginYear</th>\n",
       "      <th>endYear</th>\n",
       "      <th>timeSpan</th>\n",
       "      <th>medium</th>\n",
       "      <th>dimensions</th>\n",
       "      <th>attributionInverted</th>\n",
       "      <th>attribution</th>\n",
       "      <th>classification</th>\n",
       "      <th>parentID</th>\n",
       "      <th>portfolio</th>\n",
       "      <th>series</th>\n",
       "      <th>volume</th>\n",
       "    </tr>\n",
       "  </thead>\n",
       "  <tbody>\n",
       "    <tr>\n",
       "      <th>81867</th>\n",
       "      <td>32572</td>\n",
       "      <td>American Flamingo</td>\n",
       "      <td>1838</td>\n",
       "      <td>1838.0</td>\n",
       "      <td>1838.0</td>\n",
       "      <td>1826 to 1850</td>\n",
       "      <td>hand-colored engraving and aquatint on Whatman wove paper</td>\n",
       "      <td>image: 87.63 × 58.58 cm (34 1/2 × 23 1/16 in.)\\r\\nplate: 97 x 65 cm (38 3/16 x 25 9/16 in.)\\r\\nsheet: 101.3 x 68.3 cm (39 7/8 x 26 7/8 in.)</td>\n",
       "      <td>Havell, Robert after John James Audubon</td>\n",
       "      <td>Robert Havell after John James Audubon</td>\n",
       "      <td>print</td>\n",
       "      <td>NaN</td>\n",
       "      <td>The Birds of America: Plate CCCCXXXI</td>\n",
       "      <td>The Birds of America: Plate CCCCXXXI</td>\n",
       "      <td>NaN</td>\n",
       "    </tr>\n",
       "  </tbody>\n",
       "</table>\n",
       "</div>"
      ],
      "text/plain": [
       "       objectID              title displayDate  beginYear  endYear  \\\n",
       "81867     32572  American Flamingo        1838     1838.0   1838.0   \n",
       "\n",
       "           timeSpan  \\\n",
       "81867  1826 to 1850   \n",
       "\n",
       "                                                          medium  \\\n",
       "81867  hand-colored engraving and aquatint on Whatman wove paper   \n",
       "\n",
       "                                                                                                                                        dimensions  \\\n",
       "81867  image: 87.63 × 58.58 cm (34 1/2 × 23 1/16 in.)\\r\\nplate: 97 x 65 cm (38 3/16 x 25 9/16 in.)\\r\\nsheet: 101.3 x 68.3 cm (39 7/8 x 26 7/8 in.)   \n",
       "\n",
       "                           attributionInverted  \\\n",
       "81867  Havell, Robert after John James Audubon   \n",
       "\n",
       "                                  attribution classification  parentID  \\\n",
       "81867  Robert Havell after John James Audubon          print       NaN   \n",
       "\n",
       "                                  portfolio  \\\n",
       "81867  The Birds of America: Plate CCCCXXXI   \n",
       "\n",
       "                                     series volume  \n",
       "81867  The Birds of America: Plate CCCCXXXI    NaN  "
      ]
     },
     "execution_count": 4,
     "metadata": {},
     "output_type": "execute_result"
    }
   ],
   "source": [
    "# -------- CHECK objectID ----------\n",
    "#df1[ df1[\"objectID\"] == 215380]\n",
    "df1[ df1[\"objectID\"] == 32572]"
   ]
  },
  {
   "cell_type": "markdown",
   "metadata": {},
   "source": [
    "https://aws.amazon.com/premiumsupport/knowledge-center/users-connect-rds-iam/"
   ]
  },
  {
   "cell_type": "markdown",
   "metadata": {},
   "source": [
    "# 2nd `#6` Table: `constituents`\n",
    "\n",
    "Columns:\n",
    "* `'constituentID', 'preferredDisplayName', 'forwardDisplayName','lastName', 'displayDate', 'beginYear', 'endYear','visualBrowserTimeSpan', 'visualBrowserNationality'`"
   ]
  },
  {
   "cell_type": "code",
   "execution_count": 57,
   "metadata": {},
   "outputs": [
    {
     "data": {
      "text/plain": [
       "(9941, 9)"
      ]
     },
     "execution_count": 57,
     "metadata": {},
     "output_type": "execute_result"
    }
   ],
   "source": [
    "df6 = pd.read_csv('08_1_constituents_cleaned.csv', encoding = 'utf-8', low_memory = False)\n",
    "\n",
    "#df6 #(overview of the table)\n",
    "df6.shape\n",
    "#df6.columns"
   ]
  },
  {
   "cell_type": "code",
   "execution_count": 48,
   "metadata": {},
   "outputs": [
    {
     "data": {
      "text/plain": [
       "array(['Other', 'British', 'American', 'Dutch', 'German', 'Italian',\n",
       "       'French', 'Swiss', 'Netherlandish', 'Russian', 'Spanish',\n",
       "       'Flemish', 'Austrian', 'Scottish', 'English', 'Mexican', 'Belgian',\n",
       "       'Swedish', 'Japanese', 'Canadian', 'Czech', 'Bohemian', 'Danish',\n",
       "       'Chinese', 'Norwegian', '\\u206eItalian', 'italian'], dtype=object)"
      ]
     },
     "execution_count": 48,
     "metadata": {},
     "output_type": "execute_result"
    }
   ],
   "source": [
    "df6[\"visualBrowserNationality\"].unique()"
   ]
  },
  {
   "cell_type": "code",
   "execution_count": 61,
   "metadata": {},
   "outputs": [
    {
     "data": {
      "text/html": [
       "<div>\n",
       "<style scoped>\n",
       "    .dataframe tbody tr th:only-of-type {\n",
       "        vertical-align: middle;\n",
       "    }\n",
       "\n",
       "    .dataframe tbody tr th {\n",
       "        vertical-align: top;\n",
       "    }\n",
       "\n",
       "    .dataframe thead th {\n",
       "        text-align: right;\n",
       "    }\n",
       "</style>\n",
       "<table border=\"1\" class=\"dataframe\">\n",
       "  <thead>\n",
       "    <tr style=\"text-align: right;\">\n",
       "      <th></th>\n",
       "      <th>constituentID</th>\n",
       "      <th>preferredDisplayName</th>\n",
       "      <th>forwardDisplayName</th>\n",
       "      <th>lastName</th>\n",
       "      <th>displayDate</th>\n",
       "      <th>beginYear</th>\n",
       "      <th>endYear</th>\n",
       "      <th>visualBrowserTimeSpan</th>\n",
       "      <th>visualBrowserNationality</th>\n",
       "    </tr>\n",
       "  </thead>\n",
       "  <tbody>\n",
       "    <tr>\n",
       "      <th>16</th>\n",
       "      <td>122</td>\n",
       "      <td>Audubon, John James</td>\n",
       "      <td>John James Audubon</td>\n",
       "      <td>Audubon</td>\n",
       "      <td>American, 1785 - 1851</td>\n",
       "      <td>1785.0</td>\n",
       "      <td>1851.0</td>\n",
       "      <td>1776 to 1800</td>\n",
       "      <td>American</td>\n",
       "    </tr>\n",
       "    <tr>\n",
       "      <th>17</th>\n",
       "      <td>128</td>\n",
       "      <td>Audubon, John Woodhouse</td>\n",
       "      <td>John Woodhouse Audubon</td>\n",
       "      <td>Audubon</td>\n",
       "      <td>American, 1812 - 1862</td>\n",
       "      <td>1812.0</td>\n",
       "      <td>1862.0</td>\n",
       "      <td>1801 to 1825</td>\n",
       "      <td>American</td>\n",
       "    </tr>\n",
       "  </tbody>\n",
       "</table>\n",
       "</div>"
      ],
      "text/plain": [
       "    constituentID     preferredDisplayName      forwardDisplayName lastName  \\\n",
       "16            122      Audubon, John James      John James Audubon  Audubon   \n",
       "17            128  Audubon, John Woodhouse  John Woodhouse Audubon  Audubon   \n",
       "\n",
       "              displayDate  beginYear  endYear visualBrowserTimeSpan  \\\n",
       "16  American, 1785 - 1851     1785.0   1851.0          1776 to 1800   \n",
       "17  American, 1812 - 1862     1812.0   1862.0          1801 to 1825   \n",
       "\n",
       "   visualBrowserNationality  \n",
       "16                 American  \n",
       "17                 American  "
      ]
     },
     "execution_count": 61,
     "metadata": {},
     "output_type": "execute_result"
    }
   ],
   "source": [
    "df6[ df6[\"lastName\"] == \"Audubon\"] "
   ]
  },
  {
   "cell_type": "markdown",
   "metadata": {},
   "source": [
    "# 3rd `#7` Table: `objects_images`\n",
    "\n",
    "https://dev.mysql.com/doc/refman/8.0/en/rename-table.html"
   ]
  },
  {
   "cell_type": "code",
   "execution_count": 10,
   "metadata": {},
   "outputs": [
    {
     "data": {
      "text/plain": [
       "uuid         81937\n",
       "objectID     81868\n",
       "URL          81937\n",
       "thumbURL     81937\n",
       "width         7743\n",
       "height        7892\n",
       "maxpixels        1\n",
       "dtype: int64"
      ]
     },
     "execution_count": 10,
     "metadata": {},
     "output_type": "execute_result"
    }
   ],
   "source": [
    "df7 = pd.read_csv('07_1_objects_images_cleaned.csv', encoding = 'utf-8', low_memory = False)\n",
    "\n",
    "df7.nunique()"
   ]
  },
  {
   "cell_type": "markdown",
   "metadata": {},
   "source": [
    "# 4th `#6` Table: `objects_constituents`"
   ]
  },
  {
   "cell_type": "code",
   "execution_count": 13,
   "metadata": {},
   "outputs": [
    {
     "data": {
      "text/plain": [
       "(103053, 5)"
      ]
     },
     "execution_count": 13,
     "metadata": {},
     "output_type": "execute_result"
    }
   ],
   "source": [
    "df6 = pd.read_csv('06_1_objects_constituents_cleaned.csv', encoding = 'utf-8', low_memory = False)\n",
    "df6.shape # 103256 pairs of objectID-constituentID\n",
    "#df6.nunique() #81867 objectIDs x 9943 constituentIDs\n"
   ]
  },
  {
   "cell_type": "markdown",
   "metadata": {},
   "source": [
    "# 5th `#3` Table: `objects_associations`"
   ]
  },
  {
   "cell_type": "code",
   "execution_count": 14,
   "metadata": {},
   "outputs": [
    {
     "data": {
      "text/plain": [
       "(915, 3)"
      ]
     },
     "execution_count": 14,
     "metadata": {},
     "output_type": "execute_result"
    }
   ],
   "source": [
    "df3 = pd.read_csv('03_1_objects_associations_cleaned.csv', encoding = 'utf-8', low_memory = False)\n",
    "df3.shape # parent-child associations\n",
    "#df3.nunique() #81867 objectIDs x 9943 constituentIDs"
   ]
  },
  {
   "cell_type": "markdown",
   "metadata": {},
   "source": [
    "# 6th  `#2` Table: `objects_terms`\n",
    "\n",
    "* colums: `'termID', 'objectID', 'termType', 'term', 'visualBrowserTheme'`\n",
    "* termType: `'Place Executed', 'School', 'Technique', 'Style', 'Theme','Keyword', 'Systematic Catalogue Volume'`\n",
    "\n",
    "#### termType = `Style\n",
    "* `'Baroque', 'Impressionist', 'Romantic', 'Minimalist', 'Rococo', 'Renaissance', 'Realist', 'Post-Impressionist', 'Cubist','Abstract Expressionist', 'German Expressionist','Pennsylvania German', 'Spanish Southwest', 'Abstraction','Japonisme', 'Orientalist', 'Symbolist', 'Surrealist', 'Academic','Naive', 'Commemorative', 'Galena', 'Rockingham', 'Moravian', 'Benningtonware', 'Hepplewhite', 'Queen Anne', 'Jacobean','Georgian', 'Transitional William and Mary/Queen Anne','Chippendale', 'Windsor', 'Sheraton', 'Transitional Queen Anne/Chippendale', 'Transitional Dutch/Queen Anne', 'William And Mary','Windsor/Sheraton', 'Directoire', 'Hitchcock', 'German Colonial','German', 'Norse', 'Alsatian Colonial', 'Spanish Colonial','Colonial', 'French Acadian', 'Pioneer', 'Bishop Hill', 'Empire','Dutch', 'French', 'Victorian', 'Federal', 'Biedermeier', 'Shaker','Neoclassic', 'Pop', 'Art Nouveau', 'Fauve', 'Gothic', 'Modernist','Post-Minimalist', 'Napoleonic', 'Mission', 'Hepplewhite/Sheraton','Qing', 'Provincial', 'Purist', 'Conceptual Art', 'Precisionist','Austrian Expressionist', 'Staffordshire', 'Eastlake','Norse Colonial', 'Futurist', 'Neo-Impressionist', 'Tonalist', 'Southwest', 'Quaker', 'Sheraton/Empire', 'Louis XV/Sheraton','Zoar'`"
   ]
  },
  {
   "cell_type": "code",
   "execution_count": 49,
   "metadata": {},
   "outputs": [
    {
     "data": {
      "text/plain": [
       "Index(['termID', 'objectID', 'termType', 'term', 'visualBrowserTheme'], dtype='object')"
      ]
     },
     "execution_count": 49,
     "metadata": {},
     "output_type": "execute_result"
    }
   ],
   "source": [
    "df2 = pd.read_csv('02_1_objects_terms_cleaned.csv', encoding = 'utf-8', low_memory = False)\n",
    "df2.shape # parent-child associations\n",
    "#df2.nunique() #81867 objectIDs x 9943 constituentIDs\n",
    "#df2[\"termType\"].unique()\n",
    "df2.columns"
   ]
  },
  {
   "cell_type": "code",
   "execution_count": 53,
   "metadata": {
    "scrolled": true
   },
   "outputs": [
    {
     "data": {
      "text/plain": [
       "array(['painted surface', 'punched design', 'etching', 'graphite',\n",
       "       'drypoint', 'aquatint', 'spitbite', 'sugarlift', 'woodcut',\n",
       "       'photo-etching', 'collage', 'screenprint', 'lithograph',\n",
       "       'embossed', 'engraving', 'liftground', 'roulette', 'scratched',\n",
       "       'carved', 'scraping', 'hardground', 'monoprint', 'monotype',\n",
       "       'zincograph', 'mezzotint', 'die-cut', 'offset', 'wood engraving',\n",
       "       'collagraph', 'counterproof', 'paper relief', 'reduction',\n",
       "       'pasted', 'writing', 'decal', 'flatbite', 'sewn', 'lithotint',\n",
       "       'torn', 'paste print', 'pastel', 'photorelief', 'monoprint inking',\n",
       "       'gillotype', 'fumée', 'sand ground', 'typeset', 'power burin',\n",
       "       'crayon', 'molded paper', 'line-cut', 'debossed', 'photo-media',\n",
       "       'cancelled plate', 'ink', 'à la poupée', 'chalk', 'wash',\n",
       "       'sandpaper ground', 'salt-lift', 'cutout', 'pinpricked',\n",
       "       'dark-manner', 'cut', 'grisaille', 'stumping', 'letter press',\n",
       "       'transfer', 'stain', 'photo-engraving', 'embroidered',\n",
       "       'needlepoint', 'quilted', 'pieced', 'ink-transfer', 'watercolor',\n",
       "       'needlework', 'typing', 'photomechanical process', 'appliqué',\n",
       "       'direct gravure', 'stipple', 'silkscreen', 'cliche-verre',\n",
       "       'electrotype', 'foul bite', 'chiaroscuro', 'pochoir', 'polished',\n",
       "       'carborundum', 'photolithograph', 'photo-screenprint', 'inkless',\n",
       "       'touched proof', 'colored pencil', 'stencil',\n",
       "       'crayon-manner engraving', 'heliorelief', 'airbrush', 'burnishing',\n",
       "       'photograph', 'incised (indented with stylus)', 'stamped',\n",
       "       'softground', 'pricked for transfer', 'chiaroscuro (drawing)',\n",
       "       'felt-tip pen', 'mixed technique', 'linocut', 'photo-offset',\n",
       "       'halftone', 'gilded', 'intaglio', 'relief', 'scorched',\n",
       "       'chromolithograph', 'niello print', 'photogravure', 'heliogravure',\n",
       "       'collotype', 'soapground', 'open bite', 'gelatin silver print',\n",
       "       'relief etching', 'cellocut', 'punctured', 'woodblock',\n",
       "       'transferred', 'digital print', 'tusche', 'pricked', 'scorper',\n",
       "       'metalcut', 'salt print', 'paper', 'painted under the surface',\n",
       "       'raised design (layered)', 'woven', 'assemblage', 'waxtype',\n",
       "       'stone', 'glyptograph', 'fabricated',\n",
       "       'aquatint (reversal process)', 'Xerography',\n",
       "       'wash-manner engraving', 'inkjet print', 'reduction linocut',\n",
       "       'waterbite', 'smearing', 'false bite', 'sulphur tint', 'cast',\n",
       "       'brocade', 'felt', 'offset printing', 'burnt', 'plexiglass relief',\n",
       "       'encaustic', 'gypsograph', 'erasure', 'frottage', 'smoked'],\n",
       "      dtype=object)"
      ]
     },
     "execution_count": 53,
     "metadata": {},
     "output_type": "execute_result"
    }
   ],
   "source": [
    "# df2[df2[\"termType\"] == \"Style\"][\"term\"].unique()\n",
    "# df2[df2[\"termType\"] == \"School\"][\"term\"].unique()\n",
    "df2[df2[\"termType\"] == \"Technique\"][\"term\"].unique()"
   ]
  },
  {
   "cell_type": "code",
   "execution_count": 62,
   "metadata": {},
   "outputs": [
    {
     "data": {
      "text/html": [
       "<div>\n",
       "<style scoped>\n",
       "    .dataframe tbody tr th:only-of-type {\n",
       "        vertical-align: middle;\n",
       "    }\n",
       "\n",
       "    .dataframe tbody tr th {\n",
       "        vertical-align: top;\n",
       "    }\n",
       "\n",
       "    .dataframe thead th {\n",
       "        text-align: right;\n",
       "    }\n",
       "</style>\n",
       "<table border=\"1\" class=\"dataframe\">\n",
       "  <thead>\n",
       "    <tr style=\"text-align: right;\">\n",
       "      <th></th>\n",
       "      <th>termID</th>\n",
       "      <th>objectID</th>\n",
       "      <th>termType</th>\n",
       "      <th>term</th>\n",
       "      <th>visualBrowserTheme</th>\n",
       "    </tr>\n",
       "  </thead>\n",
       "  <tbody>\n",
       "    <tr>\n",
       "      <th>74730</th>\n",
       "      <td>2034787</td>\n",
       "      <td>32572</td>\n",
       "      <td>Technique</td>\n",
       "      <td>engraving</td>\n",
       "      <td>NaN</td>\n",
       "    </tr>\n",
       "    <tr>\n",
       "      <th>81745</th>\n",
       "      <td>2034601</td>\n",
       "      <td>32572</td>\n",
       "      <td>Technique</td>\n",
       "      <td>aquatint</td>\n",
       "      <td>NaN</td>\n",
       "    </tr>\n",
       "    <tr>\n",
       "      <th>87995</th>\n",
       "      <td>2034525</td>\n",
       "      <td>32572</td>\n",
       "      <td>School</td>\n",
       "      <td>American</td>\n",
       "      <td>NaN</td>\n",
       "    </tr>\n",
       "  </tbody>\n",
       "</table>\n",
       "</div>"
      ],
      "text/plain": [
       "        termID  objectID   termType       term visualBrowserTheme\n",
       "74730  2034787     32572  Technique  engraving                NaN\n",
       "81745  2034601     32572  Technique   aquatint                NaN\n",
       "87995  2034525     32572     School   American                NaN"
      ]
     },
     "execution_count": 62,
     "metadata": {},
     "output_type": "execute_result"
    }
   ],
   "source": [
    "df2[df2[\"objectID\"] == 32572]"
   ]
  },
  {
   "cell_type": "markdown",
   "metadata": {},
   "source": [
    "# 7th  `#4` Table: `objects_dimensions`"
   ]
  },
  {
   "cell_type": "code",
   "execution_count": 22,
   "metadata": {},
   "outputs": [
    {
     "data": {
      "text/html": [
       "<div>\n",
       "<style scoped>\n",
       "    .dataframe tbody tr th:only-of-type {\n",
       "        vertical-align: middle;\n",
       "    }\n",
       "\n",
       "    .dataframe tbody tr th {\n",
       "        vertical-align: top;\n",
       "    }\n",
       "\n",
       "    .dataframe thead th {\n",
       "        text-align: right;\n",
       "    }\n",
       "</style>\n",
       "<table border=\"1\" class=\"dataframe\">\n",
       "  <thead>\n",
       "    <tr style=\"text-align: right;\">\n",
       "      <th></th>\n",
       "      <th>objectID</th>\n",
       "      <th>dimensionType</th>\n",
       "      <th>dimension</th>\n",
       "      <th>unitName</th>\n",
       "    </tr>\n",
       "  </thead>\n",
       "  <tbody>\n",
       "    <tr>\n",
       "      <th>0</th>\n",
       "      <td>0</td>\n",
       "      <td>height</td>\n",
       "      <td>62.200000</td>\n",
       "      <td>centimeters</td>\n",
       "    </tr>\n",
       "    <tr>\n",
       "      <th>1</th>\n",
       "      <td>0</td>\n",
       "      <td>width</td>\n",
       "      <td>34.800000</td>\n",
       "      <td>centimeters</td>\n",
       "    </tr>\n",
       "    <tr>\n",
       "      <th>2</th>\n",
       "      <td>1</td>\n",
       "      <td>height</td>\n",
       "      <td>224.800000</td>\n",
       "      <td>centimeters</td>\n",
       "    </tr>\n",
       "    <tr>\n",
       "      <th>3</th>\n",
       "      <td>1</td>\n",
       "      <td>width</td>\n",
       "      <td>77.000000</td>\n",
       "      <td>centimeters</td>\n",
       "    </tr>\n",
       "    <tr>\n",
       "      <th>4</th>\n",
       "      <td>2</td>\n",
       "      <td>height</td>\n",
       "      <td>197.000000</td>\n",
       "      <td>centimeters</td>\n",
       "    </tr>\n",
       "    <tr>\n",
       "      <th>...</th>\n",
       "      <td>...</td>\n",
       "      <td>...</td>\n",
       "      <td>...</td>\n",
       "      <td>...</td>\n",
       "    </tr>\n",
       "    <tr>\n",
       "      <th>113721</th>\n",
       "      <td>222965</td>\n",
       "      <td>width</td>\n",
       "      <td>31.500000</td>\n",
       "      <td>centimeters</td>\n",
       "    </tr>\n",
       "    <tr>\n",
       "      <th>113722</th>\n",
       "      <td>32452</td>\n",
       "      <td>height</td>\n",
       "      <td>89.535179</td>\n",
       "      <td>centimeters</td>\n",
       "    </tr>\n",
       "    <tr>\n",
       "      <th>113723</th>\n",
       "      <td>32452</td>\n",
       "      <td>width</td>\n",
       "      <td>60.007620</td>\n",
       "      <td>centimeters</td>\n",
       "    </tr>\n",
       "    <tr>\n",
       "      <th>113724</th>\n",
       "      <td>32572</td>\n",
       "      <td>height</td>\n",
       "      <td>87.630175</td>\n",
       "      <td>centimeters</td>\n",
       "    </tr>\n",
       "    <tr>\n",
       "      <th>113725</th>\n",
       "      <td>32572</td>\n",
       "      <td>width</td>\n",
       "      <td>58.578867</td>\n",
       "      <td>centimeters</td>\n",
       "    </tr>\n",
       "  </tbody>\n",
       "</table>\n",
       "<p>113726 rows × 4 columns</p>\n",
       "</div>"
      ],
      "text/plain": [
       "        objectID dimensionType   dimension     unitName\n",
       "0              0        height   62.200000  centimeters\n",
       "1              0         width   34.800000  centimeters\n",
       "2              1        height  224.800000  centimeters\n",
       "3              1         width   77.000000  centimeters\n",
       "4              2        height  197.000000  centimeters\n",
       "...          ...           ...         ...          ...\n",
       "113721    222965         width   31.500000  centimeters\n",
       "113722     32452        height   89.535179  centimeters\n",
       "113723     32452         width   60.007620  centimeters\n",
       "113724     32572        height   87.630175  centimeters\n",
       "113725     32572         width   58.578867  centimeters\n",
       "\n",
       "[113726 rows x 4 columns]"
      ]
     },
     "execution_count": 22,
     "metadata": {},
     "output_type": "execute_result"
    }
   ],
   "source": [
    "df4 = pd.read_csv('04_1_objects_dimensions_cleaned.csv', encoding = 'utf-8', low_memory = False)\n",
    "df4.shape # 113726 dimensions\n",
    "#df4.nunique() #\n",
    "df4"
   ]
  },
  {
   "cell_type": "markdown",
   "metadata": {},
   "source": [
    "# 8th  `#5` Table: `objects_text_entries`\n",
    "\n",
    "* 5 `textTypes: `'bibliography', 'exhibition_history', 'inscription_footnote','exhibition_history_footnote', 'documentary_labels_inscriptions'`"
   ]
  },
  {
   "cell_type": "code",
   "execution_count": 46,
   "metadata": {
    "scrolled": true
   },
   "outputs": [
    {
     "data": {
      "text/html": [
       "<div>\n",
       "<style scoped>\n",
       "    .dataframe tbody tr th:only-of-type {\n",
       "        vertical-align: middle;\n",
       "    }\n",
       "\n",
       "    .dataframe tbody tr th {\n",
       "        vertical-align: top;\n",
       "    }\n",
       "\n",
       "    .dataframe thead th {\n",
       "        text-align: right;\n",
       "    }\n",
       "</style>\n",
       "<table border=\"1\" class=\"dataframe\">\n",
       "  <thead>\n",
       "    <tr style=\"text-align: right;\">\n",
       "      <th></th>\n",
       "      <th>objectID</th>\n",
       "      <th>text</th>\n",
       "      <th>textType</th>\n",
       "      <th>year</th>\n",
       "    </tr>\n",
       "  </thead>\n",
       "  <tbody>\n",
       "    <tr>\n",
       "      <th>95197</th>\n",
       "      <td>0</td>\n",
       "      <td>Berenson and the Connoisseurship of Italian Painting, National Gallery of Art, Washington, D.C., 1979, no. 81.</td>\n",
       "      <td>exhibition_history</td>\n",
       "      <td>1979.0</td>\n",
       "    </tr>\n",
       "    <tr>\n",
       "      <th>95198</th>\n",
       "      <td>0</td>\n",
       "      <td>Fiftieth Anniversary Exhibition, The Metropolitan Museum of Art, New York, 1920, unnumbered catalogue.</td>\n",
       "      <td>exhibition_history</td>\n",
       "      <td>1920.0</td>\n",
       "    </tr>\n",
       "    <tr>\n",
       "      <th>95199</th>\n",
       "      <td>0</td>\n",
       "      <td>Loan Exhibition of Important Early Italian Paintings in the Possession of Notable American Collectors, Duveen Brothers, New York, 1924, no. 2, as by Giovanni Cimabue (no. 1 in illustrated 1926 ver...</td>\n",
       "      <td>exhibition_history</td>\n",
       "      <td>1924.0</td>\n",
       "    </tr>\n",
       "    <tr>\n",
       "      <th>95200</th>\n",
       "      <td>0</td>\n",
       "      <td>Exposition de L'Art Italien de Cimabue à Tiepolo, Petit Palais, Paris, 1935, no. 110.</td>\n",
       "      <td>exhibition_history</td>\n",
       "      <td>1935.0</td>\n",
       "    </tr>\n",
       "    <tr>\n",
       "      <th>95201</th>\n",
       "      <td>0</td>\n",
       "      <td>La fortuna dei primitivi: Tesori d’arte dalle collezioni italiane fra Sette e Ottocento [The Fortunes of the Primitives: Artistic Treasures from Italian Collections between the Eighteenth and Nine...</td>\n",
       "      <td>exhibition_history</td>\n",
       "      <td>2014.0</td>\n",
       "    </tr>\n",
       "    <tr>\n",
       "      <th>...</th>\n",
       "      <td>...</td>\n",
       "      <td>...</td>\n",
       "      <td>...</td>\n",
       "      <td>...</td>\n",
       "    </tr>\n",
       "    <tr>\n",
       "      <th>136537</th>\n",
       "      <td>222965</td>\n",
       "      <td>Medieval to Modern: Recent Acquisitions of Drawings, Prints, and Illustrated Books, National Gallery of Art, Washington, 2008, no. 134 b.</td>\n",
       "      <td>exhibition_history</td>\n",
       "      <td>2008.0</td>\n",
       "    </tr>\n",
       "    <tr>\n",
       "      <th>136538</th>\n",
       "      <td>32452</td>\n",
       "      <td>Audubon's Dream Realized: Selections from \"The Birds of America\". The National Gallery of Art, Washington, 2005.</td>\n",
       "      <td>exhibition_history</td>\n",
       "      <td>2005.0</td>\n",
       "    </tr>\n",
       "    <tr>\n",
       "      <th>136539</th>\n",
       "      <td>32452</td>\n",
       "      <td>Three Centuries of American Prints: from the National Gallery of Art, National Gallery of Art, Washington; National Gallery in Prague, Prague 1; Antiguo Colegio de San Ildefonso, Mexico City; Dall...</td>\n",
       "      <td>exhibition_history</td>\n",
       "      <td>2016.0</td>\n",
       "    </tr>\n",
       "    <tr>\n",
       "      <th>136540</th>\n",
       "      <td>32572</td>\n",
       "      <td>Audubon's Dream Realized: Selections from \"The Birds of America\". The National Gallery of Art, Washington, 2005.</td>\n",
       "      <td>exhibition_history</td>\n",
       "      <td>2005.0</td>\n",
       "    </tr>\n",
       "    <tr>\n",
       "      <th>136541</th>\n",
       "      <td>32572</td>\n",
       "      <td>Three Centuries of American Prints: from the National Gallery of Art, National Gallery of Art, Washington; National Gallery in Prague, Prague 1; Antiguo Colegio de San Ildefonso, Mexico City; Dall...</td>\n",
       "      <td>exhibition_history</td>\n",
       "      <td>2016.0</td>\n",
       "    </tr>\n",
       "  </tbody>\n",
       "</table>\n",
       "<p>41345 rows × 4 columns</p>\n",
       "</div>"
      ],
      "text/plain": [
       "        objectID  \\\n",
       "95197          0   \n",
       "95198          0   \n",
       "95199          0   \n",
       "95200          0   \n",
       "95201          0   \n",
       "...          ...   \n",
       "136537    222965   \n",
       "136538     32452   \n",
       "136539     32452   \n",
       "136540     32572   \n",
       "136541     32572   \n",
       "\n",
       "                                                                                                                                                                                                           text  \\\n",
       "95197                                                                                            Berenson and the Connoisseurship of Italian Painting, National Gallery of Art, Washington, D.C., 1979, no. 81.   \n",
       "95198                                                                                                    Fiftieth Anniversary Exhibition, The Metropolitan Museum of Art, New York, 1920, unnumbered catalogue.   \n",
       "95199   Loan Exhibition of Important Early Italian Paintings in the Possession of Notable American Collectors, Duveen Brothers, New York, 1924, no. 2, as by Giovanni Cimabue (no. 1 in illustrated 1926 ver...   \n",
       "95200                                                                                                                     Exposition de L'Art Italien de Cimabue à Tiepolo, Petit Palais, Paris, 1935, no. 110.   \n",
       "95201   La fortuna dei primitivi: Tesori d’arte dalle collezioni italiane fra Sette e Ottocento [The Fortunes of the Primitives: Artistic Treasures from Italian Collections between the Eighteenth and Nine...   \n",
       "...                                                                                                                                                                                                         ...   \n",
       "136537                                                                Medieval to Modern: Recent Acquisitions of Drawings, Prints, and Illustrated Books, National Gallery of Art, Washington, 2008, no. 134 b.   \n",
       "136538                                                                                         Audubon's Dream Realized: Selections from \"The Birds of America\". The National Gallery of Art, Washington, 2005.   \n",
       "136539  Three Centuries of American Prints: from the National Gallery of Art, National Gallery of Art, Washington; National Gallery in Prague, Prague 1; Antiguo Colegio de San Ildefonso, Mexico City; Dall...   \n",
       "136540                                                                                         Audubon's Dream Realized: Selections from \"The Birds of America\". The National Gallery of Art, Washington, 2005.   \n",
       "136541  Three Centuries of American Prints: from the National Gallery of Art, National Gallery of Art, Washington; National Gallery in Prague, Prague 1; Antiguo Colegio de San Ildefonso, Mexico City; Dall...   \n",
       "\n",
       "                  textType    year  \n",
       "95197   exhibition_history  1979.0  \n",
       "95198   exhibition_history  1920.0  \n",
       "95199   exhibition_history  1924.0  \n",
       "95200   exhibition_history  1935.0  \n",
       "95201   exhibition_history  2014.0  \n",
       "...                    ...     ...  \n",
       "136537  exhibition_history  2008.0  \n",
       "136538  exhibition_history  2005.0  \n",
       "136539  exhibition_history  2016.0  \n",
       "136540  exhibition_history  2005.0  \n",
       "136541  exhibition_history  2016.0  \n",
       "\n",
       "[41345 rows x 4 columns]"
      ]
     },
     "execution_count": 46,
     "metadata": {},
     "output_type": "execute_result"
    }
   ],
   "source": [
    "df5 = pd.read_csv('05_1_objects_text_entries_cleaned.csv', encoding = 'utf-8', low_memory = False)\n",
    "df5.shape # 136672 text_entries\n",
    "#df5[\"textType\"].unique()\n",
    "\n",
    "df5[df5[\"textType\"] == \"bibliography\"] # 95197 bibliography\n",
    "df5[df5[\"textType\"] == \"exhibition_history\"] # 41345 exhibition_history\n",
    "#df5[df5[\"textType\"] == \"inscription_footnote\"] # <50 --> 0 inscription_footnote\n",
    "#df5[df5[\"textType\"] == \"exhibition_history_footnote\"] # <50 --> 0 exhibition_history_footnote\n",
    "# df5[df5[\"textType\"] == \"documentary_labels_inscriptions\"] # 71 --> 0 documentary_labels_inscriptions\n"
   ]
  }
 ],
 "metadata": {
  "kernelspec": {
   "display_name": "Python 3",
   "language": "python",
   "name": "python3"
  },
  "language_info": {
   "codemirror_mode": {
    "name": "ipython",
    "version": 3
   },
   "file_extension": ".py",
   "mimetype": "text/x-python",
   "name": "python",
   "nbconvert_exporter": "python",
   "pygments_lexer": "ipython3",
   "version": "3.8.5"
  }
 },
 "nbformat": 4,
 "nbformat_minor": 4
}
